{
 "cells": [
  {
   "cell_type": "code",
   "execution_count": 1,
   "id": "1256cf78",
   "metadata": {
    "_cell_guid": "b1076dfc-b9ad-4769-8c92-a6c4dae69d19",
    "_uuid": "8f2839f25d086af736a60e9eeb907d3b93b6e0e5",
    "execution": {
     "iopub.execute_input": "2025-04-30T16:27:07.562385Z",
     "iopub.status.busy": "2025-04-30T16:27:07.562110Z",
     "iopub.status.idle": "2025-04-30T16:27:09.734071Z",
     "shell.execute_reply": "2025-04-30T16:27:09.733121Z"
    },
    "papermill": {
     "duration": 2.179048,
     "end_time": "2025-04-30T16:27:09.735429",
     "exception": false,
     "start_time": "2025-04-30T16:27:07.556381",
     "status": "completed"
    },
    "tags": []
   },
   "outputs": [
    {
     "name": "stdout",
     "output_type": "stream",
     "text": [
      "/kaggle/input/dataset/dataset_harga_beras.xlsx\n",
      "/kaggle/input/dataset/dataset_hama.xlsx\n",
      "/kaggle/input/dataset/dataset_rainfall_all.xlsx\n"
     ]
    }
   ],
   "source": [
    "# This Python 3 environment comes with many helpful analytics libraries installed\n",
    "# It is defined by the kaggle/python Docker image: https://github.com/kaggle/docker-python\n",
    "# For example, here's several helpful packages to load\n",
    "\n",
    "import numpy as np # linear algebra\n",
    "import pandas as pd # data processing, CSV file I/O (e.g. pd.read_csv)\n",
    "\n",
    "# Input data files are available in the read-only \"../input/\" directory\n",
    "# For example, running this (by clicking run or pressing Shift+Enter) will list all files under the input directory\n",
    "\n",
    "import os\n",
    "for dirname, _, filenames in os.walk('/kaggle/input'):\n",
    "    for filename in filenames:\n",
    "        print(os.path.join(dirname, filename))\n",
    "\n",
    "# You can write up to 20GB to the current directory (/kaggle/working/) that gets preserved as output when you create a version using \"Save & Run All\" \n",
    "# You can also write temporary files to /kaggle/temp/, but they won't be saved outside of the current session"
   ]
  },
  {
   "cell_type": "markdown",
   "id": "e1c737ce",
   "metadata": {
    "papermill": {
     "duration": 0.003683,
     "end_time": "2025-04-30T16:27:09.743214",
     "exception": false,
     "start_time": "2025-04-30T16:27:09.739531",
     "status": "completed"
    },
    "tags": []
   },
   "source": [
    "**GRID SEARCH PREDIKSI LSTM**"
   ]
  },
  {
   "cell_type": "markdown",
   "id": "b38177d5",
   "metadata": {
    "papermill": {
     "duration": 0.003294,
     "end_time": "2025-04-30T16:27:09.750187",
     "exception": false,
     "start_time": "2025-04-30T16:27:09.746893",
     "status": "completed"
    },
    "tags": []
   },
   "source": [
    "**UNIVARIATE**"
   ]
  },
  {
   "cell_type": "markdown",
   "id": "accc03a4",
   "metadata": {
    "papermill": {
     "duration": 0.003323,
     "end_time": "2025-04-30T16:27:09.757109",
     "exception": false,
     "start_time": "2025-04-30T16:27:09.753786",
     "status": "completed"
    },
    "tags": []
   },
   "source": [
    "**GRID SEARCH 3 TAHUN**"
   ]
  },
  {
   "cell_type": "code",
   "execution_count": 2,
   "id": "e61c2081",
   "metadata": {
    "execution": {
     "iopub.execute_input": "2025-04-30T16:27:09.764907Z",
     "iopub.status.busy": "2025-04-30T16:27:09.764489Z",
     "iopub.status.idle": "2025-04-30T16:30:02.773055Z",
     "shell.execute_reply": "2025-04-30T16:30:02.771893Z"
    },
    "papermill": {
     "duration": 173.014137,
     "end_time": "2025-04-30T16:30:02.774503",
     "exception": false,
     "start_time": "2025-04-30T16:27:09.760366",
     "status": "completed"
    },
    "tags": []
   },
   "outputs": [
    {
     "name": "stderr",
     "output_type": "stream",
     "text": [
      "2025-04-30 16:27:15.366804: E external/local_xla/xla/stream_executor/cuda/cuda_fft.cc:477] Unable to register cuFFT factory: Attempting to register factory for plugin cuFFT when one has already been registered\n",
      "WARNING: All log messages before absl::InitializeLog() is called are written to STDERR\n",
      "E0000 00:00:1746030435.788171      19 cuda_dnn.cc:8310] Unable to register cuDNN factory: Attempting to register factory for plugin cuDNN when one has already been registered\n",
      "E0000 00:00:1746030435.900552      19 cuda_blas.cc:1418] Unable to register cuBLAS factory: Attempting to register factory for plugin cuBLAS when one has already been registered\n",
      "I0000 00:00:1746030455.508636      19 gpu_device.cc:2022] Created device /job:localhost/replica:0/task:0/device:GPU:0 with 13942 MB memory:  -> device: 0, name: Tesla T4, pci bus id: 0000:00:04.0, compute capability: 7.5\n",
      "I0000 00:00:1746030455.509474      19 gpu_device.cc:2022] Created device /job:localhost/replica:0/task:0/device:GPU:1 with 13942 MB memory:  -> device: 1, name: Tesla T4, pci bus id: 0000:00:05.0, compute capability: 7.5\n",
      "/usr/local/lib/python3.11/dist-packages/keras/src/layers/rnn/rnn.py:204: UserWarning: Do not pass an `input_shape`/`input_dim` argument to a layer. When using Sequential models, prefer using an `Input(shape)` object as the first layer in the model instead.\n",
      "  super().__init__(**kwargs)\n",
      "I0000 00:00:1746030460.104078      60 cuda_dnn.cc:529] Loaded cuDNN version 90300\n"
     ]
    },
    {
     "name": "stdout",
     "output_type": "stream",
     "text": [
      "\u001b[1m13/13\u001b[0m \u001b[32m━━━━━━━━━━━━━━━━━━━━\u001b[0m\u001b[37m\u001b[0m \u001b[1m0s\u001b[0m 13ms/step\n"
     ]
    },
    {
     "name": "stderr",
     "output_type": "stream",
     "text": [
      "/usr/local/lib/python3.11/dist-packages/keras/src/layers/rnn/rnn.py:204: UserWarning: Do not pass an `input_shape`/`input_dim` argument to a layer. When using Sequential models, prefer using an `Input(shape)` object as the first layer in the model instead.\n",
      "  super().__init__(**kwargs)\n"
     ]
    },
    {
     "name": "stdout",
     "output_type": "stream",
     "text": [
      "\u001b[1m13/13\u001b[0m \u001b[32m━━━━━━━━━━━━━━━━━━━━\u001b[0m\u001b[37m\u001b[0m \u001b[1m0s\u001b[0m 13ms/step\n"
     ]
    },
    {
     "name": "stderr",
     "output_type": "stream",
     "text": [
      "/usr/local/lib/python3.11/dist-packages/keras/src/layers/rnn/rnn.py:204: UserWarning: Do not pass an `input_shape`/`input_dim` argument to a layer. When using Sequential models, prefer using an `Input(shape)` object as the first layer in the model instead.\n",
      "  super().__init__(**kwargs)\n"
     ]
    },
    {
     "name": "stdout",
     "output_type": "stream",
     "text": [
      "\u001b[1m13/13\u001b[0m \u001b[32m━━━━━━━━━━━━━━━━━━━━\u001b[0m\u001b[37m\u001b[0m \u001b[1m0s\u001b[0m 13ms/step\n"
     ]
    },
    {
     "name": "stderr",
     "output_type": "stream",
     "text": [
      "/usr/local/lib/python3.11/dist-packages/keras/src/layers/rnn/rnn.py:204: UserWarning: Do not pass an `input_shape`/`input_dim` argument to a layer. When using Sequential models, prefer using an `Input(shape)` object as the first layer in the model instead.\n",
      "  super().__init__(**kwargs)\n"
     ]
    },
    {
     "name": "stdout",
     "output_type": "stream",
     "text": [
      "\u001b[1m13/13\u001b[0m \u001b[32m━━━━━━━━━━━━━━━━━━━━\u001b[0m\u001b[37m\u001b[0m \u001b[1m0s\u001b[0m 13ms/step\n"
     ]
    },
    {
     "name": "stderr",
     "output_type": "stream",
     "text": [
      "/usr/local/lib/python3.11/dist-packages/keras/src/layers/rnn/rnn.py:204: UserWarning: Do not pass an `input_shape`/`input_dim` argument to a layer. When using Sequential models, prefer using an `Input(shape)` object as the first layer in the model instead.\n",
      "  super().__init__(**kwargs)\n"
     ]
    },
    {
     "name": "stdout",
     "output_type": "stream",
     "text": [
      "\u001b[1m12/12\u001b[0m \u001b[32m━━━━━━━━━━━━━━━━━━━━\u001b[0m\u001b[37m\u001b[0m \u001b[1m0s\u001b[0m 2ms/step  \n"
     ]
    },
    {
     "name": "stderr",
     "output_type": "stream",
     "text": [
      "/usr/local/lib/python3.11/dist-packages/keras/src/layers/rnn/rnn.py:204: UserWarning: Do not pass an `input_shape`/`input_dim` argument to a layer. When using Sequential models, prefer using an `Input(shape)` object as the first layer in the model instead.\n",
      "  super().__init__(**kwargs)\n"
     ]
    },
    {
     "name": "stdout",
     "output_type": "stream",
     "text": [
      "\u001b[1m12/12\u001b[0m \u001b[32m━━━━━━━━━━━━━━━━━━━━\u001b[0m\u001b[37m\u001b[0m \u001b[1m0s\u001b[0m 2ms/step  \n"
     ]
    },
    {
     "name": "stderr",
     "output_type": "stream",
     "text": [
      "/usr/local/lib/python3.11/dist-packages/keras/src/layers/rnn/rnn.py:204: UserWarning: Do not pass an `input_shape`/`input_dim` argument to a layer. When using Sequential models, prefer using an `Input(shape)` object as the first layer in the model instead.\n",
      "  super().__init__(**kwargs)\n"
     ]
    },
    {
     "name": "stdout",
     "output_type": "stream",
     "text": [
      "\u001b[1m12/12\u001b[0m \u001b[32m━━━━━━━━━━━━━━━━━━━━\u001b[0m\u001b[37m\u001b[0m \u001b[1m0s\u001b[0m 2ms/step  \n"
     ]
    },
    {
     "name": "stderr",
     "output_type": "stream",
     "text": [
      "/usr/local/lib/python3.11/dist-packages/keras/src/layers/rnn/rnn.py:204: UserWarning: Do not pass an `input_shape`/`input_dim` argument to a layer. When using Sequential models, prefer using an `Input(shape)` object as the first layer in the model instead.\n",
      "  super().__init__(**kwargs)\n"
     ]
    },
    {
     "name": "stdout",
     "output_type": "stream",
     "text": [
      "\u001b[1m12/12\u001b[0m \u001b[32m━━━━━━━━━━━━━━━━━━━━\u001b[0m\u001b[37m\u001b[0m \u001b[1m0s\u001b[0m 2ms/step  \n",
      "   Lookback  Dropout  Batch Size        MAE        R²       SMAPE  \\\n",
      "1        12      0.2          32  14.542596  0.005201  124.326938   \n",
      "5        30      0.2          32  14.694975  0.005261  124.012540   \n",
      "2        12      0.3          16  14.916420  0.012662  124.056594   \n",
      "6        30      0.3          16  14.934864  0.015358  124.142301   \n",
      "0        12      0.2          16  15.140609  0.015689  123.956303   \n",
      "3        12      0.3          32  15.183188  0.014280  123.928187   \n",
      "4        30      0.2          16  15.235019  0.011273  124.140594   \n",
      "7        30      0.3          32  15.322222  0.016048  124.062871   \n",
      "\n",
      "   Training Time (s)  \n",
      "1          12.611589  \n",
      "5          13.929643  \n",
      "2          20.855387  \n",
      "6          22.545747  \n",
      "0          23.869766  \n",
      "3          12.200866  \n",
      "4          22.959343  \n",
      "7          13.731447  \n"
     ]
    }
   ],
   "source": [
    "# --- Import Library ---\n",
    "import pandas as pd\n",
    "import numpy as np\n",
    "import itertools\n",
    "import time\n",
    "from sklearn.preprocessing import MinMaxScaler\n",
    "from sklearn.metrics import mean_absolute_error, r2_score\n",
    "from tensorflow.keras.models import Sequential\n",
    "from tensorflow.keras.layers import LSTM, Dense, Dropout\n",
    "from tensorflow.keras.optimizers import Adam\n",
    "from tensorflow.keras.losses import MeanSquaredError\n",
    "\n",
    "# --- Load Data ---\n",
    "df = pd.read_excel(\"/kaggle/input/dataset/dataset_rainfall_all.xlsx\", sheet_name=\"Sheet3\")\n",
    "df['tanggal'] = pd.to_datetime(df['tanggal'], dayfirst=True)\n",
    "df = df.sort_values('tanggal')\n",
    "target = 'rr'\n",
    "df[[target]] = df[[target]].interpolate(method='linear').bfill().ffill()\n",
    "\n",
    "# --- Normalize ---\n",
    "scaler_x = MinMaxScaler()\n",
    "scaler_y = MinMaxScaler()\n",
    "X_scaled = scaler_x.fit_transform(df[[target]])  # univariate input\n",
    "y_scaled = scaler_y.fit_transform(df[[target]])\n",
    "\n",
    "# --- Dataset Creator Function ---\n",
    "def create_dataset(X, y, lookback=12):\n",
    "    Xs, ys = [], []\n",
    "    for i in range(lookback, len(X)):\n",
    "        Xs.append(X[i-lookback:i])\n",
    "        ys.append(y[i])\n",
    "    return np.array(Xs), np.array(ys)\n",
    "\n",
    "# --- Grid Search Parameters ---\n",
    "param_grid = {\n",
    "    'lookback': [12, 30],\n",
    "    'dropout': [0.2, 0.3],\n",
    "    'batch_size': [16, 32]\n",
    "}\n",
    "\n",
    "results = []\n",
    "\n",
    "# --- Start Grid Search ---\n",
    "for lookback, dropout, batch_size in itertools.product(param_grid['lookback'], param_grid['dropout'], param_grid['batch_size']):\n",
    "    # Create dataset\n",
    "    X_seq, y_seq = create_dataset(X_scaled, y_scaled, lookback=lookback)\n",
    "    train_size = int(0.8 * len(X_seq))\n",
    "    X_train, X_test = X_seq[:train_size], X_seq[train_size:]\n",
    "    y_train, y_test = y_seq[:train_size], y_seq[train_size:]\n",
    "\n",
    "    # Build model\n",
    "    model = Sequential([\n",
    "        LSTM(64, input_shape=(X_train.shape[1], X_train.shape[2])),\n",
    "        Dropout(dropout),\n",
    "        Dense(1)\n",
    "    ])\n",
    "    model.compile(optimizer=Adam(), loss=MeanSquaredError())\n",
    "\n",
    "    # Train model\n",
    "    start_time = time.time()\n",
    "    model.fit(X_train, y_train, epochs=50, batch_size=batch_size, validation_split=0.1, verbose=0)\n",
    "    train_time = time.time() - start_time\n",
    "\n",
    "    # Predict and Evaluate\n",
    "    y_pred_scaled = model.predict(X_test)\n",
    "    y_pred = scaler_y.inverse_transform(y_pred_scaled)\n",
    "    y_true = scaler_y.inverse_transform(y_test)\n",
    "\n",
    "    mae = mean_absolute_error(y_true, y_pred)\n",
    "    r2 = r2_score(y_true, y_pred)\n",
    "    smape = 100 * np.mean(2 * np.abs(y_pred - y_true) / (np.abs(y_pred) + np.abs(y_true) + 1e-8))\n",
    "\n",
    "    results.append({\n",
    "        'Lookback': lookback,\n",
    "        'Dropout': dropout,\n",
    "        'Batch Size': batch_size,\n",
    "        'MAE': mae,\n",
    "        'R²': r2,\n",
    "        'SMAPE': smape,\n",
    "        'Training Time (s)': train_time\n",
    "    })\n",
    "\n",
    "# --- Show Results ---\n",
    "df_results = pd.DataFrame(results).sort_values(by='MAE')\n",
    "print(df_results)\n"
   ]
  },
  {
   "cell_type": "markdown",
   "id": "7dd3b2cf",
   "metadata": {
    "papermill": {
     "duration": 0.004979,
     "end_time": "2025-04-30T16:30:02.785534",
     "exception": false,
     "start_time": "2025-04-30T16:30:02.780555",
     "status": "completed"
    },
    "tags": []
   },
   "source": [
    "**GRID SEARCH 5 TAHUN**"
   ]
  },
  {
   "cell_type": "code",
   "execution_count": 3,
   "id": "51f37a1f",
   "metadata": {
    "execution": {
     "iopub.execute_input": "2025-04-30T16:30:02.797559Z",
     "iopub.status.busy": "2025-04-30T16:30:02.796985Z",
     "iopub.status.idle": "2025-04-30T16:31:46.289518Z",
     "shell.execute_reply": "2025-04-30T16:31:46.288615Z"
    },
    "papermill": {
     "duration": 103.500183,
     "end_time": "2025-04-30T16:31:46.290819",
     "exception": false,
     "start_time": "2025-04-30T16:30:02.790636",
     "status": "completed"
    },
    "tags": []
   },
   "outputs": [
    {
     "name": "stderr",
     "output_type": "stream",
     "text": [
      "/usr/local/lib/python3.11/dist-packages/keras/src/layers/rnn/rnn.py:204: UserWarning: Do not pass an `input_shape`/`input_dim` argument to a layer. When using Sequential models, prefer using an `Input(shape)` object as the first layer in the model instead.\n",
      "  super().__init__(**kwargs)\n"
     ]
    },
    {
     "name": "stdout",
     "output_type": "stream",
     "text": [
      "\u001b[1m8/8\u001b[0m \u001b[32m━━━━━━━━━━━━━━━━━━━━\u001b[0m\u001b[37m\u001b[0m \u001b[1m0s\u001b[0m 20ms/step\n"
     ]
    },
    {
     "name": "stderr",
     "output_type": "stream",
     "text": [
      "/usr/local/lib/python3.11/dist-packages/keras/src/layers/rnn/rnn.py:204: UserWarning: Do not pass an `input_shape`/`input_dim` argument to a layer. When using Sequential models, prefer using an `Input(shape)` object as the first layer in the model instead.\n",
      "  super().__init__(**kwargs)\n"
     ]
    },
    {
     "name": "stdout",
     "output_type": "stream",
     "text": [
      "\u001b[1m8/8\u001b[0m \u001b[32m━━━━━━━━━━━━━━━━━━━━\u001b[0m\u001b[37m\u001b[0m \u001b[1m0s\u001b[0m 21ms/step\n"
     ]
    },
    {
     "name": "stderr",
     "output_type": "stream",
     "text": [
      "/usr/local/lib/python3.11/dist-packages/keras/src/layers/rnn/rnn.py:204: UserWarning: Do not pass an `input_shape`/`input_dim` argument to a layer. When using Sequential models, prefer using an `Input(shape)` object as the first layer in the model instead.\n",
      "  super().__init__(**kwargs)\n"
     ]
    },
    {
     "name": "stdout",
     "output_type": "stream",
     "text": [
      "\u001b[1m8/8\u001b[0m \u001b[32m━━━━━━━━━━━━━━━━━━━━\u001b[0m\u001b[37m\u001b[0m \u001b[1m0s\u001b[0m 21ms/step\n"
     ]
    },
    {
     "name": "stderr",
     "output_type": "stream",
     "text": [
      "/usr/local/lib/python3.11/dist-packages/keras/src/layers/rnn/rnn.py:204: UserWarning: Do not pass an `input_shape`/`input_dim` argument to a layer. When using Sequential models, prefer using an `Input(shape)` object as the first layer in the model instead.\n",
      "  super().__init__(**kwargs)\n"
     ]
    },
    {
     "name": "stdout",
     "output_type": "stream",
     "text": [
      "\u001b[1m8/8\u001b[0m \u001b[32m━━━━━━━━━━━━━━━━━━━━\u001b[0m\u001b[37m\u001b[0m \u001b[1m0s\u001b[0m 22ms/step\n"
     ]
    },
    {
     "name": "stderr",
     "output_type": "stream",
     "text": [
      "/usr/local/lib/python3.11/dist-packages/keras/src/layers/rnn/rnn.py:204: UserWarning: Do not pass an `input_shape`/`input_dim` argument to a layer. When using Sequential models, prefer using an `Input(shape)` object as the first layer in the model instead.\n",
      "  super().__init__(**kwargs)\n"
     ]
    },
    {
     "name": "stdout",
     "output_type": "stream",
     "text": [
      "\u001b[1m8/8\u001b[0m \u001b[32m━━━━━━━━━━━━━━━━━━━━\u001b[0m\u001b[37m\u001b[0m \u001b[1m0s\u001b[0m 23ms/step\n"
     ]
    },
    {
     "name": "stderr",
     "output_type": "stream",
     "text": [
      "/usr/local/lib/python3.11/dist-packages/keras/src/layers/rnn/rnn.py:204: UserWarning: Do not pass an `input_shape`/`input_dim` argument to a layer. When using Sequential models, prefer using an `Input(shape)` object as the first layer in the model instead.\n",
      "  super().__init__(**kwargs)\n"
     ]
    },
    {
     "name": "stdout",
     "output_type": "stream",
     "text": [
      "\u001b[1m8/8\u001b[0m \u001b[32m━━━━━━━━━━━━━━━━━━━━\u001b[0m\u001b[37m\u001b[0m \u001b[1m0s\u001b[0m 23ms/step\n"
     ]
    },
    {
     "name": "stderr",
     "output_type": "stream",
     "text": [
      "/usr/local/lib/python3.11/dist-packages/keras/src/layers/rnn/rnn.py:204: UserWarning: Do not pass an `input_shape`/`input_dim` argument to a layer. When using Sequential models, prefer using an `Input(shape)` object as the first layer in the model instead.\n",
      "  super().__init__(**kwargs)\n"
     ]
    },
    {
     "name": "stdout",
     "output_type": "stream",
     "text": [
      "\u001b[1m8/8\u001b[0m \u001b[32m━━━━━━━━━━━━━━━━━━━━\u001b[0m\u001b[37m\u001b[0m \u001b[1m0s\u001b[0m 21ms/step\n"
     ]
    },
    {
     "name": "stderr",
     "output_type": "stream",
     "text": [
      "/usr/local/lib/python3.11/dist-packages/keras/src/layers/rnn/rnn.py:204: UserWarning: Do not pass an `input_shape`/`input_dim` argument to a layer. When using Sequential models, prefer using an `Input(shape)` object as the first layer in the model instead.\n",
      "  super().__init__(**kwargs)\n"
     ]
    },
    {
     "name": "stdout",
     "output_type": "stream",
     "text": [
      "\u001b[1m8/8\u001b[0m \u001b[32m━━━━━━━━━━━━━━━━━━━━\u001b[0m\u001b[37m\u001b[0m \u001b[1m0s\u001b[0m 21ms/step\n",
      "   Lookback  Dropout  Batch Size        MAE        R²       SMAPE  \\\n",
      "4        30      0.2          16  15.537996 -0.012262  120.156806   \n",
      "3        12      0.3          32  15.650492 -0.004449  120.749803   \n",
      "6        30      0.3          16  15.724326 -0.009287  120.171325   \n",
      "2        12      0.3          16  15.735584 -0.001782  120.493798   \n",
      "1        12      0.2          32  15.799854 -0.002462  120.540730   \n",
      "0        12      0.2          16  15.875744  0.002670  120.232541   \n",
      "7        30      0.3          32  15.894125 -0.006749  120.252114   \n",
      "5        30      0.2          32  16.454274 -0.000763  119.673653   \n",
      "\n",
      "   Training Time (s)  \n",
      "4          15.742198  \n",
      "3          10.058932  \n",
      "6          15.311660  \n",
      "2          14.288546  \n",
      "1          10.432821  \n",
      "0          14.122482  \n",
      "7           9.840466  \n",
      "5          10.351324  \n"
     ]
    }
   ],
   "source": [
    "# --- Import Library ---\n",
    "import pandas as pd\n",
    "import numpy as np\n",
    "import itertools\n",
    "import time\n",
    "from sklearn.preprocessing import MinMaxScaler\n",
    "from sklearn.metrics import mean_absolute_error, r2_score\n",
    "from tensorflow.keras.models import Sequential\n",
    "from tensorflow.keras.layers import LSTM, Dense, Dropout\n",
    "from tensorflow.keras.optimizers import Adam\n",
    "from tensorflow.keras.losses import MeanSquaredError\n",
    "\n",
    "# --- Load Data ---\n",
    "df = pd.read_excel(\"/kaggle/input/dataset/dataset_rainfall_all.xlsx\", sheet_name=\"Sheet2\")\n",
    "df['tanggal'] = pd.to_datetime(df['tanggal'], dayfirst=True)\n",
    "df = df.sort_values('tanggal')\n",
    "target = 'rr'\n",
    "df[[target]] = df[[target]].interpolate(method='linear').bfill().ffill()\n",
    "\n",
    "# --- Normalize ---\n",
    "scaler_x = MinMaxScaler()\n",
    "scaler_y = MinMaxScaler()\n",
    "X_scaled = scaler_x.fit_transform(df[[target]])  # univariate input\n",
    "y_scaled = scaler_y.fit_transform(df[[target]])\n",
    "\n",
    "# --- Dataset Creator Function ---\n",
    "def create_dataset(X, y, lookback=12):\n",
    "    Xs, ys = [], []\n",
    "    for i in range(lookback, len(X)):\n",
    "        Xs.append(X[i-lookback:i])\n",
    "        ys.append(y[i])\n",
    "    return np.array(Xs), np.array(ys)\n",
    "\n",
    "# --- Grid Search Parameters ---\n",
    "param_grid = {\n",
    "    'lookback': [12, 30],\n",
    "    'dropout': [0.2, 0.3],\n",
    "    'batch_size': [16, 32]\n",
    "}\n",
    "\n",
    "results = []\n",
    "\n",
    "# --- Start Grid Search ---\n",
    "for lookback, dropout, batch_size in itertools.product(param_grid['lookback'], param_grid['dropout'], param_grid['batch_size']):\n",
    "    # Create dataset\n",
    "    X_seq, y_seq = create_dataset(X_scaled, y_scaled, lookback=lookback)\n",
    "    train_size = int(0.8 * len(X_seq))\n",
    "    X_train, X_test = X_seq[:train_size], X_seq[train_size:]\n",
    "    y_train, y_test = y_seq[:train_size], y_seq[train_size:]\n",
    "\n",
    "    # Build model\n",
    "    model = Sequential([\n",
    "        LSTM(64, input_shape=(X_train.shape[1], X_train.shape[2])),\n",
    "        Dropout(dropout),\n",
    "        Dense(1)\n",
    "    ])\n",
    "    model.compile(optimizer=Adam(), loss=MeanSquaredError())\n",
    "\n",
    "    # Train model\n",
    "    start_time = time.time()\n",
    "    model.fit(X_train, y_train, epochs=50, batch_size=batch_size, validation_split=0.1, verbose=0)\n",
    "    train_time = time.time() - start_time\n",
    "\n",
    "    # Predict and Evaluate\n",
    "    y_pred_scaled = model.predict(X_test)\n",
    "    y_pred = scaler_y.inverse_transform(y_pred_scaled)\n",
    "    y_true = scaler_y.inverse_transform(y_test)\n",
    "\n",
    "    mae = mean_absolute_error(y_true, y_pred)\n",
    "    r2 = r2_score(y_true, y_pred)\n",
    "    smape = 100 * np.mean(2 * np.abs(y_pred - y_true) / (np.abs(y_pred) + np.abs(y_true) + 1e-8))\n",
    "\n",
    "    results.append({\n",
    "        'Lookback': lookback,\n",
    "        'Dropout': dropout,\n",
    "        'Batch Size': batch_size,\n",
    "        'MAE': mae,\n",
    "        'R²': r2,\n",
    "        'SMAPE': smape,\n",
    "        'Training Time (s)': train_time\n",
    "    })\n",
    "\n",
    "# --- Show Results ---\n",
    "df_results = pd.DataFrame(results).sort_values(by='MAE')\n",
    "print(df_results)\n"
   ]
  },
  {
   "cell_type": "markdown",
   "id": "6911f7b3",
   "metadata": {
    "papermill": {
     "duration": 0.007122,
     "end_time": "2025-04-30T16:31:46.304699",
     "exception": false,
     "start_time": "2025-04-30T16:31:46.297577",
     "status": "completed"
    },
    "tags": []
   },
   "source": [
    "**GRID SEARCH 10 TAHUN**"
   ]
  },
  {
   "cell_type": "code",
   "execution_count": 4,
   "id": "7be69400",
   "metadata": {
    "execution": {
     "iopub.execute_input": "2025-04-30T16:31:46.318763Z",
     "iopub.status.busy": "2025-04-30T16:31:46.318514Z",
     "iopub.status.idle": "2025-04-30T16:35:42.997309Z",
     "shell.execute_reply": "2025-04-30T16:35:42.996309Z"
    },
    "papermill": {
     "duration": 236.687545,
     "end_time": "2025-04-30T16:35:42.998600",
     "exception": false,
     "start_time": "2025-04-30T16:31:46.311055",
     "status": "completed"
    },
    "tags": []
   },
   "outputs": [
    {
     "name": "stderr",
     "output_type": "stream",
     "text": [
      "/usr/local/lib/python3.11/dist-packages/keras/src/layers/rnn/rnn.py:204: UserWarning: Do not pass an `input_shape`/`input_dim` argument to a layer. When using Sequential models, prefer using an `Input(shape)` object as the first layer in the model instead.\n",
      "  super().__init__(**kwargs)\n"
     ]
    },
    {
     "name": "stdout",
     "output_type": "stream",
     "text": [
      "\u001b[1m23/23\u001b[0m \u001b[32m━━━━━━━━━━━━━━━━━━━━\u001b[0m\u001b[37m\u001b[0m \u001b[1m0s\u001b[0m 8ms/step\n"
     ]
    },
    {
     "name": "stderr",
     "output_type": "stream",
     "text": [
      "/usr/local/lib/python3.11/dist-packages/keras/src/layers/rnn/rnn.py:204: UserWarning: Do not pass an `input_shape`/`input_dim` argument to a layer. When using Sequential models, prefer using an `Input(shape)` object as the first layer in the model instead.\n",
      "  super().__init__(**kwargs)\n"
     ]
    },
    {
     "name": "stdout",
     "output_type": "stream",
     "text": [
      "\u001b[1m23/23\u001b[0m \u001b[32m━━━━━━━━━━━━━━━━━━━━\u001b[0m\u001b[37m\u001b[0m \u001b[1m0s\u001b[0m 8ms/step\n"
     ]
    },
    {
     "name": "stderr",
     "output_type": "stream",
     "text": [
      "/usr/local/lib/python3.11/dist-packages/keras/src/layers/rnn/rnn.py:204: UserWarning: Do not pass an `input_shape`/`input_dim` argument to a layer. When using Sequential models, prefer using an `Input(shape)` object as the first layer in the model instead.\n",
      "  super().__init__(**kwargs)\n"
     ]
    },
    {
     "name": "stdout",
     "output_type": "stream",
     "text": [
      "\u001b[1m23/23\u001b[0m \u001b[32m━━━━━━━━━━━━━━━━━━━━\u001b[0m\u001b[37m\u001b[0m \u001b[1m0s\u001b[0m 8ms/step\n"
     ]
    },
    {
     "name": "stderr",
     "output_type": "stream",
     "text": [
      "/usr/local/lib/python3.11/dist-packages/keras/src/layers/rnn/rnn.py:204: UserWarning: Do not pass an `input_shape`/`input_dim` argument to a layer. When using Sequential models, prefer using an `Input(shape)` object as the first layer in the model instead.\n",
      "  super().__init__(**kwargs)\n"
     ]
    },
    {
     "name": "stdout",
     "output_type": "stream",
     "text": [
      "\u001b[1m23/23\u001b[0m \u001b[32m━━━━━━━━━━━━━━━━━━━━\u001b[0m\u001b[37m\u001b[0m \u001b[1m0s\u001b[0m 8ms/step\n"
     ]
    },
    {
     "name": "stderr",
     "output_type": "stream",
     "text": [
      "/usr/local/lib/python3.11/dist-packages/keras/src/layers/rnn/rnn.py:204: UserWarning: Do not pass an `input_shape`/`input_dim` argument to a layer. When using Sequential models, prefer using an `Input(shape)` object as the first layer in the model instead.\n",
      "  super().__init__(**kwargs)\n"
     ]
    },
    {
     "name": "stdout",
     "output_type": "stream",
     "text": [
      "\u001b[1m23/23\u001b[0m \u001b[32m━━━━━━━━━━━━━━━━━━━━\u001b[0m\u001b[37m\u001b[0m \u001b[1m0s\u001b[0m 8ms/step\n"
     ]
    },
    {
     "name": "stderr",
     "output_type": "stream",
     "text": [
      "/usr/local/lib/python3.11/dist-packages/keras/src/layers/rnn/rnn.py:204: UserWarning: Do not pass an `input_shape`/`input_dim` argument to a layer. When using Sequential models, prefer using an `Input(shape)` object as the first layer in the model instead.\n",
      "  super().__init__(**kwargs)\n"
     ]
    },
    {
     "name": "stdout",
     "output_type": "stream",
     "text": [
      "\u001b[1m23/23\u001b[0m \u001b[32m━━━━━━━━━━━━━━━━━━━━\u001b[0m\u001b[37m\u001b[0m \u001b[1m0s\u001b[0m 8ms/step\n"
     ]
    },
    {
     "name": "stderr",
     "output_type": "stream",
     "text": [
      "/usr/local/lib/python3.11/dist-packages/keras/src/layers/rnn/rnn.py:204: UserWarning: Do not pass an `input_shape`/`input_dim` argument to a layer. When using Sequential models, prefer using an `Input(shape)` object as the first layer in the model instead.\n",
      "  super().__init__(**kwargs)\n"
     ]
    },
    {
     "name": "stdout",
     "output_type": "stream",
     "text": [
      "\u001b[1m23/23\u001b[0m \u001b[32m━━━━━━━━━━━━━━━━━━━━\u001b[0m\u001b[37m\u001b[0m \u001b[1m0s\u001b[0m 8ms/step\n"
     ]
    },
    {
     "name": "stderr",
     "output_type": "stream",
     "text": [
      "/usr/local/lib/python3.11/dist-packages/keras/src/layers/rnn/rnn.py:204: UserWarning: Do not pass an `input_shape`/`input_dim` argument to a layer. When using Sequential models, prefer using an `Input(shape)` object as the first layer in the model instead.\n",
      "  super().__init__(**kwargs)\n"
     ]
    },
    {
     "name": "stdout",
     "output_type": "stream",
     "text": [
      "\u001b[1m23/23\u001b[0m \u001b[32m━━━━━━━━━━━━━━━━━━━━\u001b[0m\u001b[37m\u001b[0m \u001b[1m0s\u001b[0m 9ms/step\n",
      "   Lookback  Dropout  Batch Size        MAE        R²       SMAPE  \\\n",
      "0        12      0.2          16  14.638315  0.013059  124.900001   \n",
      "7        30      0.3          32  14.644496  0.011624  124.866582   \n",
      "1        12      0.2          32  14.950167  0.017566  124.868286   \n",
      "2        12      0.3          16  15.139925  0.020320  124.863451   \n",
      "3        12      0.3          32  15.424836  0.021094  124.921483   \n",
      "4        30      0.2          16  15.536839  0.022498  124.847321   \n",
      "5        30      0.2          32  15.628333  0.021428  124.992296   \n",
      "6        30      0.3          16  15.650111  0.021871  124.939893   \n",
      "\n",
      "   Training Time (s)  \n",
      "0          35.032898  \n",
      "7          22.155160  \n",
      "1          19.914841  \n",
      "2          35.362849  \n",
      "3          19.780876  \n",
      "4          38.952059  \n",
      "5          22.471766  \n",
      "6          38.612366  \n"
     ]
    }
   ],
   "source": [
    "# --- Import Library ---\n",
    "import pandas as pd\n",
    "import numpy as np\n",
    "import itertools\n",
    "import time\n",
    "from sklearn.preprocessing import MinMaxScaler\n",
    "from sklearn.metrics import mean_absolute_error, r2_score\n",
    "from tensorflow.keras.models import Sequential\n",
    "from tensorflow.keras.layers import LSTM, Dense, Dropout\n",
    "from tensorflow.keras.optimizers import Adam\n",
    "from tensorflow.keras.losses import MeanSquaredError\n",
    "\n",
    "# --- Load Data ---\n",
    "df = pd.read_excel(\"/kaggle/input/dataset/dataset_rainfall_all.xlsx\", sheet_name=\"Sheet1\")\n",
    "df['tanggal'] = pd.to_datetime(df['tanggal'], dayfirst=True)\n",
    "df = df.sort_values('tanggal')\n",
    "target = 'rr'\n",
    "df[[target]] = df[[target]].interpolate(method='linear').bfill().ffill()\n",
    "\n",
    "# --- Normalize ---\n",
    "scaler_x = MinMaxScaler()\n",
    "scaler_y = MinMaxScaler()\n",
    "X_scaled = scaler_x.fit_transform(df[[target]])  # univariate input\n",
    "y_scaled = scaler_y.fit_transform(df[[target]])\n",
    "\n",
    "# --- Dataset Creator Function ---\n",
    "def create_dataset(X, y, lookback=12):\n",
    "    Xs, ys = [], []\n",
    "    for i in range(lookback, len(X)):\n",
    "        Xs.append(X[i-lookback:i])\n",
    "        ys.append(y[i])\n",
    "    return np.array(Xs), np.array(ys)\n",
    "\n",
    "# --- Grid Search Parameters ---\n",
    "param_grid = {\n",
    "    'lookback': [12, 30],\n",
    "    'dropout': [0.2, 0.3],\n",
    "    'batch_size': [16, 32]\n",
    "}\n",
    "\n",
    "results = []\n",
    "\n",
    "# --- Start Grid Search ---\n",
    "for lookback, dropout, batch_size in itertools.product(param_grid['lookback'], param_grid['dropout'], param_grid['batch_size']):\n",
    "    # Create dataset\n",
    "    X_seq, y_seq = create_dataset(X_scaled, y_scaled, lookback=lookback)\n",
    "    train_size = int(0.8 * len(X_seq))\n",
    "    X_train, X_test = X_seq[:train_size], X_seq[train_size:]\n",
    "    y_train, y_test = y_seq[:train_size], y_seq[train_size:]\n",
    "\n",
    "    # Build model\n",
    "    model = Sequential([\n",
    "        LSTM(64, input_shape=(X_train.shape[1], X_train.shape[2])),\n",
    "        Dropout(dropout),\n",
    "        Dense(1)\n",
    "    ])\n",
    "    model.compile(optimizer=Adam(), loss=MeanSquaredError())\n",
    "\n",
    "    # Train model\n",
    "    start_time = time.time()\n",
    "    model.fit(X_train, y_train, epochs=50, batch_size=batch_size, validation_split=0.1, verbose=0)\n",
    "    train_time = time.time() - start_time\n",
    "\n",
    "    # Predict and Evaluate\n",
    "    y_pred_scaled = model.predict(X_test)\n",
    "    y_pred = scaler_y.inverse_transform(y_pred_scaled)\n",
    "    y_true = scaler_y.inverse_transform(y_test)\n",
    "\n",
    "    mae = mean_absolute_error(y_true, y_pred)\n",
    "    r2 = r2_score(y_true, y_pred)\n",
    "    smape = 100 * np.mean(2 * np.abs(y_pred - y_true) / (np.abs(y_pred) + np.abs(y_true) + 1e-8))\n",
    "\n",
    "    results.append({\n",
    "        'Lookback': lookback,\n",
    "        'Dropout': dropout,\n",
    "        'Batch Size': batch_size,\n",
    "        'MAE': mae,\n",
    "        'R²': r2,\n",
    "        'SMAPE': smape,\n",
    "        'Training Time (s)': train_time\n",
    "    })\n",
    "\n",
    "# --- Show Results ---\n",
    "df_results = pd.DataFrame(results).sort_values(by='MAE')\n",
    "print(df_results)\n"
   ]
  },
  {
   "cell_type": "markdown",
   "id": "6d75db9f",
   "metadata": {
    "papermill": {
     "duration": 0.008045,
     "end_time": "2025-04-30T16:35:43.015147",
     "exception": false,
     "start_time": "2025-04-30T16:35:43.007102",
     "status": "completed"
    },
    "tags": []
   },
   "source": [
    "---"
   ]
  },
  {
   "cell_type": "markdown",
   "id": "0440ba50",
   "metadata": {
    "papermill": {
     "duration": 0.007864,
     "end_time": "2025-04-30T16:35:43.030669",
     "exception": false,
     "start_time": "2025-04-30T16:35:43.022805",
     "status": "completed"
    },
    "tags": []
   },
   "source": [
    "**MULTIVARIATE**"
   ]
  },
  {
   "cell_type": "markdown",
   "id": "23c922ae",
   "metadata": {
    "papermill": {
     "duration": 0.007537,
     "end_time": "2025-04-30T16:35:43.046532",
     "exception": false,
     "start_time": "2025-04-30T16:35:43.038995",
     "status": "completed"
    },
    "tags": []
   },
   "source": [
    "**GRID SEARCH 3 TAHUN**"
   ]
  },
  {
   "cell_type": "code",
   "execution_count": 5,
   "id": "6c12f64f",
   "metadata": {
    "execution": {
     "iopub.execute_input": "2025-04-30T16:35:43.063888Z",
     "iopub.status.busy": "2025-04-30T16:35:43.063581Z",
     "iopub.status.idle": "2025-04-30T16:37:22.324415Z",
     "shell.execute_reply": "2025-04-30T16:37:22.323234Z"
    },
    "papermill": {
     "duration": 99.271178,
     "end_time": "2025-04-30T16:37:22.325761",
     "exception": false,
     "start_time": "2025-04-30T16:35:43.054583",
     "status": "completed"
    },
    "tags": []
   },
   "outputs": [
    {
     "name": "stderr",
     "output_type": "stream",
     "text": [
      "/usr/local/lib/python3.11/dist-packages/keras/src/layers/rnn/rnn.py:204: UserWarning: Do not pass an `input_shape`/`input_dim` argument to a layer. When using Sequential models, prefer using an `Input(shape)` object as the first layer in the model instead.\n",
      "  super().__init__(**kwargs)\n"
     ]
    },
    {
     "name": "stdout",
     "output_type": "stream",
     "text": [
      "\u001b[1m8/8\u001b[0m \u001b[32m━━━━━━━━━━━━━━━━━━━━\u001b[0m\u001b[37m\u001b[0m \u001b[1m0s\u001b[0m 22ms/step\n"
     ]
    },
    {
     "name": "stderr",
     "output_type": "stream",
     "text": [
      "/usr/local/lib/python3.11/dist-packages/keras/src/layers/rnn/rnn.py:204: UserWarning: Do not pass an `input_shape`/`input_dim` argument to a layer. When using Sequential models, prefer using an `Input(shape)` object as the first layer in the model instead.\n",
      "  super().__init__(**kwargs)\n"
     ]
    },
    {
     "name": "stdout",
     "output_type": "stream",
     "text": [
      "\u001b[1m8/8\u001b[0m \u001b[32m━━━━━━━━━━━━━━━━━━━━\u001b[0m\u001b[37m\u001b[0m \u001b[1m0s\u001b[0m 23ms/step\n"
     ]
    },
    {
     "name": "stderr",
     "output_type": "stream",
     "text": [
      "/usr/local/lib/python3.11/dist-packages/keras/src/layers/rnn/rnn.py:204: UserWarning: Do not pass an `input_shape`/`input_dim` argument to a layer. When using Sequential models, prefer using an `Input(shape)` object as the first layer in the model instead.\n",
      "  super().__init__(**kwargs)\n"
     ]
    },
    {
     "name": "stdout",
     "output_type": "stream",
     "text": [
      "\u001b[1m8/8\u001b[0m \u001b[32m━━━━━━━━━━━━━━━━━━━━\u001b[0m\u001b[37m\u001b[0m \u001b[1m0s\u001b[0m 21ms/step\n"
     ]
    },
    {
     "name": "stderr",
     "output_type": "stream",
     "text": [
      "/usr/local/lib/python3.11/dist-packages/keras/src/layers/rnn/rnn.py:204: UserWarning: Do not pass an `input_shape`/`input_dim` argument to a layer. When using Sequential models, prefer using an `Input(shape)` object as the first layer in the model instead.\n",
      "  super().__init__(**kwargs)\n"
     ]
    },
    {
     "name": "stdout",
     "output_type": "stream",
     "text": [
      "\u001b[1m8/8\u001b[0m \u001b[32m━━━━━━━━━━━━━━━━━━━━\u001b[0m\u001b[37m\u001b[0m \u001b[1m0s\u001b[0m 19ms/step\n"
     ]
    },
    {
     "name": "stderr",
     "output_type": "stream",
     "text": [
      "/usr/local/lib/python3.11/dist-packages/keras/src/layers/rnn/rnn.py:204: UserWarning: Do not pass an `input_shape`/`input_dim` argument to a layer. When using Sequential models, prefer using an `Input(shape)` object as the first layer in the model instead.\n",
      "  super().__init__(**kwargs)\n"
     ]
    },
    {
     "name": "stdout",
     "output_type": "stream",
     "text": [
      "\u001b[1m8/8\u001b[0m \u001b[32m━━━━━━━━━━━━━━━━━━━━\u001b[0m\u001b[37m\u001b[0m \u001b[1m0s\u001b[0m 20ms/step\n"
     ]
    },
    {
     "name": "stderr",
     "output_type": "stream",
     "text": [
      "/usr/local/lib/python3.11/dist-packages/keras/src/layers/rnn/rnn.py:204: UserWarning: Do not pass an `input_shape`/`input_dim` argument to a layer. When using Sequential models, prefer using an `Input(shape)` object as the first layer in the model instead.\n",
      "  super().__init__(**kwargs)\n"
     ]
    },
    {
     "name": "stdout",
     "output_type": "stream",
     "text": [
      "\u001b[1m8/8\u001b[0m \u001b[32m━━━━━━━━━━━━━━━━━━━━\u001b[0m\u001b[37m\u001b[0m \u001b[1m0s\u001b[0m 20ms/step\n"
     ]
    },
    {
     "name": "stderr",
     "output_type": "stream",
     "text": [
      "/usr/local/lib/python3.11/dist-packages/keras/src/layers/rnn/rnn.py:204: UserWarning: Do not pass an `input_shape`/`input_dim` argument to a layer. When using Sequential models, prefer using an `Input(shape)` object as the first layer in the model instead.\n",
      "  super().__init__(**kwargs)\n"
     ]
    },
    {
     "name": "stdout",
     "output_type": "stream",
     "text": [
      "\u001b[1m8/8\u001b[0m \u001b[32m━━━━━━━━━━━━━━━━━━━━\u001b[0m\u001b[37m\u001b[0m \u001b[1m0s\u001b[0m 19ms/step\n"
     ]
    },
    {
     "name": "stderr",
     "output_type": "stream",
     "text": [
      "/usr/local/lib/python3.11/dist-packages/keras/src/layers/rnn/rnn.py:204: UserWarning: Do not pass an `input_shape`/`input_dim` argument to a layer. When using Sequential models, prefer using an `Input(shape)` object as the first layer in the model instead.\n",
      "  super().__init__(**kwargs)\n"
     ]
    },
    {
     "name": "stdout",
     "output_type": "stream",
     "text": [
      "\u001b[1m8/8\u001b[0m \u001b[32m━━━━━━━━━━━━━━━━━━━━\u001b[0m\u001b[37m\u001b[0m \u001b[1m0s\u001b[0m 20ms/step\n",
      "   Lookback  Dropout  Batch Size        MAE        R²       SMAPE  \\\n",
      "3        12      0.3          32  14.338625  0.132163  122.160602   \n",
      "0        12      0.2          16  14.532080  0.146894  121.811515   \n",
      "6        30      0.3          16  14.921598  0.150548  120.570099   \n",
      "1        12      0.2          32  15.047448  0.153085  121.010247   \n",
      "7        30      0.3          32  16.037856  0.143876  120.411707   \n",
      "5        30      0.2          32  16.157135  0.144819  120.962233   \n",
      "4        30      0.2          16  16.380881  0.146116  121.124676   \n",
      "2        12      0.3          16  16.671095  0.132344  121.619490   \n",
      "\n",
      "   Training Time (s)  \n",
      "3           8.985124  \n",
      "0          14.701552  \n",
      "6          14.180372  \n",
      "1           9.425845  \n",
      "7           9.254487  \n",
      "5           9.801531  \n",
      "4          14.264577  \n",
      "2          15.440305  \n"
     ]
    }
   ],
   "source": [
    "# --- Import Library ---\n",
    "import pandas as pd\n",
    "import numpy as np\n",
    "import itertools\n",
    "import time\n",
    "from sklearn.preprocessing import MinMaxScaler\n",
    "from sklearn.metrics import mean_absolute_error, r2_score\n",
    "from tensorflow.keras.models import Sequential\n",
    "from tensorflow.keras.layers import LSTM, Dense, Dropout\n",
    "from tensorflow.keras.optimizers import Adam\n",
    "from tensorflow.keras.losses import MeanSquaredError\n",
    "\n",
    "# --- Load Data ---\n",
    "df = pd.read_excel(\"/kaggle/input/dataset/dataset_rainfall_all.xlsx\", sheet_name=\"Sheet2\")\n",
    "df['tanggal'] = pd.to_datetime(df['tanggal'], dayfirst=True)\n",
    "df = df.sort_values('tanggal')\n",
    "features = ['tavg', 'rh_avg', 'ss']\n",
    "target = 'rr'\n",
    "df[features + [target]] = df[features + [target]].interpolate(method='linear').bfill().ffill()\n",
    "\n",
    "# --- Normalize ---\n",
    "scaler_x = MinMaxScaler()\n",
    "scaler_y = MinMaxScaler()\n",
    "X_scaled = scaler_x.fit_transform(df[features])\n",
    "y_scaled = scaler_y.fit_transform(df[[target]])\n",
    "\n",
    "# --- Dataset Creator Function ---\n",
    "def create_dataset(X, y, lookback=12):\n",
    "    Xs, ys = [], []\n",
    "    for i in range(lookback, len(X)):\n",
    "        Xs.append(X[i-lookback:i])\n",
    "        ys.append(y[i])\n",
    "    return np.array(Xs), np.array(ys)\n",
    "\n",
    "# --- Grid Search Parameters ---\n",
    "param_grid = {\n",
    "    'lookback': [12, 30],\n",
    "    'dropout': [0.2, 0.3],\n",
    "    'batch_size': [16, 32]\n",
    "}\n",
    "\n",
    "results = []\n",
    "\n",
    "# --- Start Grid Search ---\n",
    "for lookback, dropout, batch_size in itertools.product(param_grid['lookback'], param_grid['dropout'], param_grid['batch_size']):\n",
    "    # Create dataset\n",
    "    X_seq, y_seq = create_dataset(X_scaled, y_scaled, lookback=lookback)\n",
    "    train_size = int(0.8 * len(X_seq))\n",
    "    X_train, X_test = X_seq[:train_size], X_seq[train_size:]\n",
    "    y_train, y_test = y_seq[:train_size], y_seq[train_size:]\n",
    "\n",
    "    # Build model\n",
    "    model = Sequential([\n",
    "        LSTM(64, input_shape=(X_train.shape[1], X_train.shape[2])),\n",
    "        Dropout(dropout),\n",
    "        Dense(1)\n",
    "    ])\n",
    "    model.compile(optimizer=Adam(), loss=MeanSquaredError())\n",
    "\n",
    "    # Train model\n",
    "    start_time = time.time()\n",
    "    model.fit(X_train, y_train, epochs=50, batch_size=batch_size, validation_split=0.1, verbose=0)\n",
    "    train_time = time.time() - start_time\n",
    "\n",
    "    # Predict and Evaluate\n",
    "    y_pred_scaled = model.predict(X_test)\n",
    "    y_pred = scaler_y.inverse_transform(y_pred_scaled)\n",
    "    y_true = scaler_y.inverse_transform(y_test)\n",
    "\n",
    "    mae = mean_absolute_error(y_true, y_pred)\n",
    "    r2 = r2_score(y_true, y_pred)\n",
    "    smape = 100 * np.mean(2 * np.abs(y_pred - y_true) / (np.abs(y_pred) + np.abs(y_true) + 1e-8))\n",
    "\n",
    "    results.append({\n",
    "        'Lookback': lookback,\n",
    "        'Dropout': dropout,\n",
    "        'Batch Size': batch_size,\n",
    "        'MAE': mae,\n",
    "        'R²': r2,\n",
    "        'SMAPE': smape,\n",
    "        'Training Time (s)': train_time\n",
    "    })\n",
    "\n",
    "# --- Show Results ---\n",
    "df_results = pd.DataFrame(results)\n",
    "df_results = df_results.sort_values(by='MAE')\n",
    "print(df_results)"
   ]
  },
  {
   "cell_type": "markdown",
   "id": "e8e579de",
   "metadata": {
    "papermill": {
     "duration": 0.008968,
     "end_time": "2025-04-30T16:37:22.344764",
     "exception": false,
     "start_time": "2025-04-30T16:37:22.335796",
     "status": "completed"
    },
    "tags": []
   },
   "source": [
    "**GRID SEARCH 5 TAHUN**"
   ]
  },
  {
   "cell_type": "code",
   "execution_count": 6,
   "id": "97203a33",
   "metadata": {
    "execution": {
     "iopub.execute_input": "2025-04-30T16:37:22.363827Z",
     "iopub.status.busy": "2025-04-30T16:37:22.363576Z",
     "iopub.status.idle": "2025-04-30T16:39:34.778181Z",
     "shell.execute_reply": "2025-04-30T16:39:34.777285Z"
    },
    "papermill": {
     "duration": 132.425205,
     "end_time": "2025-04-30T16:39:34.779458",
     "exception": false,
     "start_time": "2025-04-30T16:37:22.354253",
     "status": "completed"
    },
    "tags": []
   },
   "outputs": [
    {
     "name": "stderr",
     "output_type": "stream",
     "text": [
      "/usr/local/lib/python3.11/dist-packages/keras/src/layers/rnn/rnn.py:204: UserWarning: Do not pass an `input_shape`/`input_dim` argument to a layer. When using Sequential models, prefer using an `Input(shape)` object as the first layer in the model instead.\n",
      "  super().__init__(**kwargs)\n"
     ]
    },
    {
     "name": "stdout",
     "output_type": "stream",
     "text": [
      "\u001b[1m13/13\u001b[0m \u001b[32m━━━━━━━━━━━━━━━━━━━━\u001b[0m\u001b[37m\u001b[0m \u001b[1m0s\u001b[0m 12ms/step\n"
     ]
    },
    {
     "name": "stderr",
     "output_type": "stream",
     "text": [
      "/usr/local/lib/python3.11/dist-packages/keras/src/layers/rnn/rnn.py:204: UserWarning: Do not pass an `input_shape`/`input_dim` argument to a layer. When using Sequential models, prefer using an `Input(shape)` object as the first layer in the model instead.\n",
      "  super().__init__(**kwargs)\n"
     ]
    },
    {
     "name": "stdout",
     "output_type": "stream",
     "text": [
      "\u001b[1m13/13\u001b[0m \u001b[32m━━━━━━━━━━━━━━━━━━━━\u001b[0m\u001b[37m\u001b[0m \u001b[1m0s\u001b[0m 12ms/step\n"
     ]
    },
    {
     "name": "stderr",
     "output_type": "stream",
     "text": [
      "/usr/local/lib/python3.11/dist-packages/keras/src/layers/rnn/rnn.py:204: UserWarning: Do not pass an `input_shape`/`input_dim` argument to a layer. When using Sequential models, prefer using an `Input(shape)` object as the first layer in the model instead.\n",
      "  super().__init__(**kwargs)\n"
     ]
    },
    {
     "name": "stdout",
     "output_type": "stream",
     "text": [
      "\u001b[1m13/13\u001b[0m \u001b[32m━━━━━━━━━━━━━━━━━━━━\u001b[0m\u001b[37m\u001b[0m \u001b[1m0s\u001b[0m 13ms/step\n"
     ]
    },
    {
     "name": "stderr",
     "output_type": "stream",
     "text": [
      "/usr/local/lib/python3.11/dist-packages/keras/src/layers/rnn/rnn.py:204: UserWarning: Do not pass an `input_shape`/`input_dim` argument to a layer. When using Sequential models, prefer using an `Input(shape)` object as the first layer in the model instead.\n",
      "  super().__init__(**kwargs)\n"
     ]
    },
    {
     "name": "stdout",
     "output_type": "stream",
     "text": [
      "\u001b[1m13/13\u001b[0m \u001b[32m━━━━━━━━━━━━━━━━━━━━\u001b[0m\u001b[37m\u001b[0m \u001b[1m0s\u001b[0m 12ms/step\n"
     ]
    },
    {
     "name": "stderr",
     "output_type": "stream",
     "text": [
      "/usr/local/lib/python3.11/dist-packages/keras/src/layers/rnn/rnn.py:204: UserWarning: Do not pass an `input_shape`/`input_dim` argument to a layer. When using Sequential models, prefer using an `Input(shape)` object as the first layer in the model instead.\n",
      "  super().__init__(**kwargs)\n"
     ]
    },
    {
     "name": "stdout",
     "output_type": "stream",
     "text": [
      "\u001b[1m12/12\u001b[0m \u001b[32m━━━━━━━━━━━━━━━━━━━━\u001b[0m\u001b[37m\u001b[0m \u001b[1m0s\u001b[0m 2ms/step  \n"
     ]
    },
    {
     "name": "stderr",
     "output_type": "stream",
     "text": [
      "/usr/local/lib/python3.11/dist-packages/keras/src/layers/rnn/rnn.py:204: UserWarning: Do not pass an `input_shape`/`input_dim` argument to a layer. When using Sequential models, prefer using an `Input(shape)` object as the first layer in the model instead.\n",
      "  super().__init__(**kwargs)\n"
     ]
    },
    {
     "name": "stdout",
     "output_type": "stream",
     "text": [
      "\u001b[1m12/12\u001b[0m \u001b[32m━━━━━━━━━━━━━━━━━━━━\u001b[0m\u001b[37m\u001b[0m \u001b[1m0s\u001b[0m 2ms/step  \n"
     ]
    },
    {
     "name": "stderr",
     "output_type": "stream",
     "text": [
      "/usr/local/lib/python3.11/dist-packages/keras/src/layers/rnn/rnn.py:204: UserWarning: Do not pass an `input_shape`/`input_dim` argument to a layer. When using Sequential models, prefer using an `Input(shape)` object as the first layer in the model instead.\n",
      "  super().__init__(**kwargs)\n"
     ]
    },
    {
     "name": "stdout",
     "output_type": "stream",
     "text": [
      "\u001b[1m12/12\u001b[0m \u001b[32m━━━━━━━━━━━━━━━━━━━━\u001b[0m\u001b[37m\u001b[0m \u001b[1m0s\u001b[0m 2ms/step  \n"
     ]
    },
    {
     "name": "stderr",
     "output_type": "stream",
     "text": [
      "/usr/local/lib/python3.11/dist-packages/keras/src/layers/rnn/rnn.py:204: UserWarning: Do not pass an `input_shape`/`input_dim` argument to a layer. When using Sequential models, prefer using an `Input(shape)` object as the first layer in the model instead.\n",
      "  super().__init__(**kwargs)\n"
     ]
    },
    {
     "name": "stdout",
     "output_type": "stream",
     "text": [
      "\u001b[1m12/12\u001b[0m \u001b[32m━━━━━━━━━━━━━━━━━━━━\u001b[0m\u001b[37m\u001b[0m \u001b[1m0s\u001b[0m 2ms/step  \n",
      "   Lookback  Dropout  Batch Size        MAE        R²       SMAPE  \\\n",
      "0        12      0.2          16  12.941305  0.163002  124.286437   \n",
      "6        30      0.3          16  13.067986  0.167662  124.407826   \n",
      "3        12      0.3          32  13.077436  0.166205  124.307765   \n",
      "1        12      0.2          32  13.087063  0.168765  124.626095   \n",
      "4        30      0.2          16  13.246615  0.169458  124.849399   \n",
      "5        30      0.2          32  14.098236  0.173855  123.791917   \n",
      "2        12      0.3          16  14.160307  0.173885  123.931785   \n",
      "7        30      0.3          32  14.359758  0.171865  124.211895   \n",
      "\n",
      "   Training Time (s)  \n",
      "0          19.762174  \n",
      "6          20.439833  \n",
      "3          11.439328  \n",
      "1          11.786331  \n",
      "4          21.313179  \n",
      "5          12.886794  \n",
      "2          18.920758  \n",
      "7          13.145250  \n"
     ]
    }
   ],
   "source": [
    "# Import Library \n",
    "import pandas as pd\n",
    "import numpy as np\n",
    "import itertools\n",
    "import time\n",
    "from sklearn.preprocessing import MinMaxScaler\n",
    "from sklearn.metrics import mean_absolute_error, r2_score\n",
    "from tensorflow.keras.models import Sequential\n",
    "from tensorflow.keras.layers import LSTM, Dense, Dropout\n",
    "from tensorflow.keras.optimizers import Adam\n",
    "from tensorflow.keras.losses import MeanSquaredError\n",
    "\n",
    "# --- Load Data ---\n",
    "df = pd.read_excel(\"/kaggle/input/dataset/dataset_rainfall_all.xlsx\", sheet_name=\"Sheet3\")\n",
    "df['tanggal'] = pd.to_datetime(df['tanggal'], dayfirst=True)\n",
    "df = df.sort_values('tanggal')\n",
    "features = ['tavg', 'rh_avg', 'ss']\n",
    "target = 'rr'\n",
    "df[features + [target]] = df[features + [target]].interpolate(method='linear').bfill().ffill()\n",
    "\n",
    "# --- Normalize ---\n",
    "scaler_x = MinMaxScaler()\n",
    "scaler_y = MinMaxScaler()\n",
    "X_scaled = scaler_x.fit_transform(df[features])\n",
    "y_scaled = scaler_y.fit_transform(df[[target]])\n",
    "\n",
    "# Dataset Creator Function ---\n",
    "def create_dataset(X, y, lookback=12):\n",
    "    Xs, ys = [], []\n",
    "    for i in range(lookback, len(X)):\n",
    "        Xs.append(X[i-lookback:i])\n",
    "        ys.append(y[i])\n",
    "    return np.array(Xs), np.array(ys)\n",
    "\n",
    "# --- Grid Search Parameters ---\n",
    "param_grid = {\n",
    "    'lookback': [12, 30],\n",
    "    'dropout': [0.2, 0.3],\n",
    "    'batch_size': [16, 32]\n",
    "}\n",
    "\n",
    "results = []\n",
    "\n",
    "# --- Start Grid Search ---\n",
    "for lookback, dropout, batch_size in itertools.product(param_grid['lookback'], param_grid['dropout'], param_grid['batch_size']):\n",
    "    # Create dataset\n",
    "    X_seq, y_seq = create_dataset(X_scaled, y_scaled, lookback=lookback)\n",
    "    train_size = int(0.8 * len(X_seq))\n",
    "    X_train, X_test = X_seq[:train_size], X_seq[train_size:]\n",
    "    y_train, y_test = y_seq[:train_size], y_seq[train_size:]\n",
    "\n",
    "    # Build model\n",
    "    model = Sequential([\n",
    "        LSTM(64, input_shape=(X_train.shape[1], X_train.shape[2])),\n",
    "        Dropout(dropout),\n",
    "        Dense(1)\n",
    "    ])\n",
    "    model.compile(optimizer=Adam(), loss=MeanSquaredError())\n",
    "\n",
    "    # Train model\n",
    "    start_time = time.time()\n",
    "    model.fit(X_train, y_train, epochs=50, batch_size=batch_size, validation_split=0.1, verbose=0)\n",
    "    train_time = time.time() - start_time\n",
    "\n",
    "    # Predict and Evaluate\n",
    "    y_pred_scaled = model.predict(X_test)\n",
    "    y_pred = scaler_y.inverse_transform(y_pred_scaled)\n",
    "    y_true = scaler_y.inverse_transform(y_test)\n",
    "\n",
    "    mae = mean_absolute_error(y_true, y_pred)\n",
    "    r2 = r2_score(y_true, y_pred)\n",
    "    smape = 100 * np.mean(2 * np.abs(y_pred - y_true) / (np.abs(y_pred) + np.abs(y_true) + 1e-8))\n",
    "\n",
    "    results.append({\n",
    "        'Lookback': lookback,\n",
    "        'Dropout': dropout,\n",
    "        'Batch Size': batch_size,\n",
    "        'MAE': mae,\n",
    "        'R²': r2,\n",
    "        'SMAPE': smape,\n",
    "        'Training Time (s)': train_time\n",
    "    })\n",
    "\n",
    "# --- Show Results ---\n",
    "df_results = pd.DataFrame(results)\n",
    "df_results = df_results.sort_values(by='MAE')\n",
    "print(df_results)"
   ]
  },
  {
   "cell_type": "markdown",
   "id": "0911bbfd",
   "metadata": {
    "papermill": {
     "duration": 0.009885,
     "end_time": "2025-04-30T16:39:34.798868",
     "exception": false,
     "start_time": "2025-04-30T16:39:34.788983",
     "status": "completed"
    },
    "tags": []
   },
   "source": [
    "**GRID SEARCH 10 TAHUN**"
   ]
  },
  {
   "cell_type": "code",
   "execution_count": 7,
   "id": "e37ae567",
   "metadata": {
    "execution": {
     "iopub.execute_input": "2025-04-30T16:39:34.819522Z",
     "iopub.status.busy": "2025-04-30T16:39:34.818923Z",
     "iopub.status.idle": "2025-04-30T16:43:13.740316Z",
     "shell.execute_reply": "2025-04-30T16:43:13.739286Z"
    },
    "papermill": {
     "duration": 218.933439,
     "end_time": "2025-04-30T16:43:13.741717",
     "exception": false,
     "start_time": "2025-04-30T16:39:34.808278",
     "status": "completed"
    },
    "tags": []
   },
   "outputs": [
    {
     "name": "stderr",
     "output_type": "stream",
     "text": [
      "/usr/local/lib/python3.11/dist-packages/keras/src/layers/rnn/rnn.py:204: UserWarning: Do not pass an `input_shape`/`input_dim` argument to a layer. When using Sequential models, prefer using an `Input(shape)` object as the first layer in the model instead.\n",
      "  super().__init__(**kwargs)\n"
     ]
    },
    {
     "name": "stdout",
     "output_type": "stream",
     "text": [
      "\u001b[1m23/23\u001b[0m \u001b[32m━━━━━━━━━━━━━━━━━━━━\u001b[0m\u001b[37m\u001b[0m \u001b[1m0s\u001b[0m 7ms/step\n"
     ]
    },
    {
     "name": "stderr",
     "output_type": "stream",
     "text": [
      "/usr/local/lib/python3.11/dist-packages/keras/src/layers/rnn/rnn.py:204: UserWarning: Do not pass an `input_shape`/`input_dim` argument to a layer. When using Sequential models, prefer using an `Input(shape)` object as the first layer in the model instead.\n",
      "  super().__init__(**kwargs)\n"
     ]
    },
    {
     "name": "stdout",
     "output_type": "stream",
     "text": [
      "\u001b[1m23/23\u001b[0m \u001b[32m━━━━━━━━━━━━━━━━━━━━\u001b[0m\u001b[37m\u001b[0m \u001b[1m0s\u001b[0m 7ms/step\n"
     ]
    },
    {
     "name": "stderr",
     "output_type": "stream",
     "text": [
      "/usr/local/lib/python3.11/dist-packages/keras/src/layers/rnn/rnn.py:204: UserWarning: Do not pass an `input_shape`/`input_dim` argument to a layer. When using Sequential models, prefer using an `Input(shape)` object as the first layer in the model instead.\n",
      "  super().__init__(**kwargs)\n"
     ]
    },
    {
     "name": "stdout",
     "output_type": "stream",
     "text": [
      "\u001b[1m23/23\u001b[0m \u001b[32m━━━━━━━━━━━━━━━━━━━━\u001b[0m\u001b[37m\u001b[0m \u001b[1m0s\u001b[0m 7ms/step\n"
     ]
    },
    {
     "name": "stderr",
     "output_type": "stream",
     "text": [
      "/usr/local/lib/python3.11/dist-packages/keras/src/layers/rnn/rnn.py:204: UserWarning: Do not pass an `input_shape`/`input_dim` argument to a layer. When using Sequential models, prefer using an `Input(shape)` object as the first layer in the model instead.\n",
      "  super().__init__(**kwargs)\n"
     ]
    },
    {
     "name": "stdout",
     "output_type": "stream",
     "text": [
      "\u001b[1m23/23\u001b[0m \u001b[32m━━━━━━━━━━━━━━━━━━━━\u001b[0m\u001b[37m\u001b[0m \u001b[1m0s\u001b[0m 8ms/step\n"
     ]
    },
    {
     "name": "stderr",
     "output_type": "stream",
     "text": [
      "/usr/local/lib/python3.11/dist-packages/keras/src/layers/rnn/rnn.py:204: UserWarning: Do not pass an `input_shape`/`input_dim` argument to a layer. When using Sequential models, prefer using an `Input(shape)` object as the first layer in the model instead.\n",
      "  super().__init__(**kwargs)\n"
     ]
    },
    {
     "name": "stdout",
     "output_type": "stream",
     "text": [
      "\u001b[1m23/23\u001b[0m \u001b[32m━━━━━━━━━━━━━━━━━━━━\u001b[0m\u001b[37m\u001b[0m \u001b[1m0s\u001b[0m 8ms/step\n"
     ]
    },
    {
     "name": "stderr",
     "output_type": "stream",
     "text": [
      "/usr/local/lib/python3.11/dist-packages/keras/src/layers/rnn/rnn.py:204: UserWarning: Do not pass an `input_shape`/`input_dim` argument to a layer. When using Sequential models, prefer using an `Input(shape)` object as the first layer in the model instead.\n",
      "  super().__init__(**kwargs)\n"
     ]
    },
    {
     "name": "stdout",
     "output_type": "stream",
     "text": [
      "\u001b[1m23/23\u001b[0m \u001b[32m━━━━━━━━━━━━━━━━━━━━\u001b[0m\u001b[37m\u001b[0m \u001b[1m0s\u001b[0m 7ms/step\n"
     ]
    },
    {
     "name": "stderr",
     "output_type": "stream",
     "text": [
      "/usr/local/lib/python3.11/dist-packages/keras/src/layers/rnn/rnn.py:204: UserWarning: Do not pass an `input_shape`/`input_dim` argument to a layer. When using Sequential models, prefer using an `Input(shape)` object as the first layer in the model instead.\n",
      "  super().__init__(**kwargs)\n"
     ]
    },
    {
     "name": "stdout",
     "output_type": "stream",
     "text": [
      "\u001b[1m23/23\u001b[0m \u001b[32m━━━━━━━━━━━━━━━━━━━━\u001b[0m\u001b[37m\u001b[0m \u001b[1m0s\u001b[0m 7ms/step\n"
     ]
    },
    {
     "name": "stderr",
     "output_type": "stream",
     "text": [
      "/usr/local/lib/python3.11/dist-packages/keras/src/layers/rnn/rnn.py:204: UserWarning: Do not pass an `input_shape`/`input_dim` argument to a layer. When using Sequential models, prefer using an `Input(shape)` object as the first layer in the model instead.\n",
      "  super().__init__(**kwargs)\n"
     ]
    },
    {
     "name": "stdout",
     "output_type": "stream",
     "text": [
      "\u001b[1m23/23\u001b[0m \u001b[32m━━━━━━━━━━━━━━━━━━━━\u001b[0m\u001b[37m\u001b[0m \u001b[1m0s\u001b[0m 7ms/step\n",
      "   Lookback  Dropout  Batch Size        MAE        R²       SMAPE  \\\n",
      "3        12      0.3          32  12.935038  0.162575  125.756283   \n",
      "0        12      0.2          16  12.974633  0.167788  125.784869   \n",
      "5        30      0.2          32  12.996346  0.163461  125.181096   \n",
      "7        30      0.3          32  13.134091  0.169783  124.808260   \n",
      "6        30      0.3          16  13.295037  0.173908  124.565303   \n",
      "2        12      0.3          16  13.549940  0.179643  125.162030   \n",
      "4        30      0.2          16  13.618660  0.177980  124.795248   \n",
      "1        12      0.2          32  13.693558  0.180828  125.133210   \n",
      "\n",
      "   Training Time (s)  \n",
      "3          18.717557  \n",
      "0          32.346066  \n",
      "5          20.232774  \n",
      "7          20.307832  \n",
      "6          36.841804  \n",
      "2          33.300921  \n",
      "4          35.573031  \n",
      "1          17.988586  \n"
     ]
    }
   ],
   "source": [
    "# --- Import Library ---\n",
    "import pandas as pd\n",
    "import numpy as np\n",
    "import itertools\n",
    "import time\n",
    "from sklearn.preprocessing import MinMaxScaler\n",
    "from sklearn.metrics import mean_absolute_error, r2_score\n",
    "from tensorflow.keras.models import Sequential\n",
    "from tensorflow.keras.layers import LSTM, Dense, Dropout\n",
    "from tensorflow.keras.optimizers import Adam\n",
    "from tensorflow.keras.losses import MeanSquaredError\n",
    "\n",
    "# --- Load Data ---\n",
    "df = pd.read_excel(\"/kaggle/input/dataset/dataset_rainfall_all.xlsx\", sheet_name=\"Sheet1\")\n",
    "df['tanggal'] = pd.to_datetime(df['tanggal'], dayfirst=True)\n",
    "df = df.sort_values('tanggal')\n",
    "features = ['tavg', 'rh_avg', 'ss']\n",
    "target = 'rr'\n",
    "df[features + [target]] = df[features + [target]].interpolate(method='linear').bfill().ffill()\n",
    "\n",
    "# --- Normalize ---\n",
    "scaler_x = MinMaxScaler()\n",
    "scaler_y = MinMaxScaler()\n",
    "X_scaled = scaler_x.fit_transform(df[features])\n",
    "y_scaled = scaler_y.fit_transform(df[[target]])\n",
    "\n",
    "# --- Dataset Creator Function ---\n",
    "def create_dataset(X, y, lookback=12):\n",
    "    Xs, ys = [], []\n",
    "    for i in range(lookback, len(X)):\n",
    "        Xs.append(X[i-lookback:i])\n",
    "        ys.append(y[i])\n",
    "    return np.array(Xs), np.array(ys)\n",
    "\n",
    "# --- Grid Search Parameters ---\n",
    "param_grid = {\n",
    "    'lookback': [12, 30],\n",
    "    'dropout': [0.2, 0.3],\n",
    "    'batch_size': [16, 32]\n",
    "}\n",
    "\n",
    "results = []\n",
    "\n",
    "# --- Start Grid Search ---\n",
    "for lookback, dropout, batch_size in itertools.product(param_grid['lookback'], param_grid['dropout'], param_grid['batch_size']):\n",
    "    # Create dataset\n",
    "    X_seq, y_seq = create_dataset(X_scaled, y_scaled, lookback=lookback)\n",
    "    train_size = int(0.8 * len(X_seq))\n",
    "    X_train, X_test = X_seq[:train_size], X_seq[train_size:]\n",
    "    y_train, y_test = y_seq[:train_size], y_seq[train_size:]\n",
    "\n",
    "    # Build model\n",
    "    model = Sequential([\n",
    "        LSTM(64, input_shape=(X_train.shape[1], X_train.shape[2])),\n",
    "        Dropout(dropout),\n",
    "        Dense(1)\n",
    "    ])\n",
    "    model.compile(optimizer=Adam(), loss=MeanSquaredError())\n",
    "\n",
    "    # Train model\n",
    "    start_time = time.time()\n",
    "    model.fit(X_train, y_train, epochs=50, batch_size=batch_size, validation_split=0.1, verbose=0)\n",
    "    train_time = time.time() - start_time\n",
    "\n",
    "    # Predict and Evaluate\n",
    "    y_pred_scaled = model.predict(X_test)\n",
    "    y_pred = scaler_y.inverse_transform(y_pred_scaled)\n",
    "    y_true = scaler_y.inverse_transform(y_test)\n",
    "\n",
    "    mae = mean_absolute_error(y_true, y_pred)\n",
    "    r2 = r2_score(y_true, y_pred)\n",
    "    smape = 100 * np.mean(2 * np.abs(y_pred - y_true) / (np.abs(y_pred) + np.abs(y_true) + 1e-8))\n",
    "\n",
    "    results.append({\n",
    "        'Lookback': lookback,\n",
    "        'Dropout': dropout,\n",
    "        'Batch Size': batch_size,\n",
    "        'MAE': mae,\n",
    "        'R²': r2,\n",
    "        'SMAPE': smape,\n",
    "        'Training Time (s)': train_time\n",
    "    })\n",
    "\n",
    "# --- Show Results ---\n",
    "df_results = pd.DataFrame(results)\n",
    "df_results = df_results.sort_values(by='MAE')\n",
    "print(df_results)"
   ]
  },
  {
   "cell_type": "markdown",
   "id": "a140d877",
   "metadata": {
    "papermill": {
     "duration": 0.012414,
     "end_time": "2025-04-30T16:43:13.828238",
     "exception": false,
     "start_time": "2025-04-30T16:43:13.815824",
     "status": "completed"
    },
    "tags": []
   },
   "source": [
    "----\n"
   ]
  },
  {
   "cell_type": "markdown",
   "id": "1afdc08f",
   "metadata": {
    "papermill": {
     "duration": 0.011449,
     "end_time": "2025-04-30T16:43:13.851998",
     "exception": false,
     "start_time": "2025-04-30T16:43:13.840549",
     "status": "completed"
    },
    "tags": []
   },
   "source": [
    "**GRID SEARCH CLASSIFICATION**"
   ]
  },
  {
   "cell_type": "code",
   "execution_count": 8,
   "id": "b63f28f9",
   "metadata": {
    "execution": {
     "iopub.execute_input": "2025-04-30T16:43:13.878614Z",
     "iopub.status.busy": "2025-04-30T16:43:13.878298Z",
     "iopub.status.idle": "2025-04-30T16:49:44.181122Z",
     "shell.execute_reply": "2025-04-30T16:49:44.180136Z"
    },
    "papermill": {
     "duration": 390.318606,
     "end_time": "2025-04-30T16:49:44.182540",
     "exception": false,
     "start_time": "2025-04-30T16:43:13.863934",
     "status": "completed"
    },
    "tags": []
   },
   "outputs": [
    {
     "name": "stdout",
     "output_type": "stream",
     "text": [
      "Starting Grid Search...\n",
      "\n",
      "Training model 1/16: units=64, dropout=0.2, lr=0.001, batch=32\n"
     ]
    },
    {
     "name": "stderr",
     "output_type": "stream",
     "text": [
      "/usr/local/lib/python3.11/dist-packages/keras/src/layers/rnn/rnn.py:204: UserWarning: Do not pass an `input_shape`/`input_dim` argument to a layer. When using Sequential models, prefer using an `Input(shape)` object as the first layer in the model instead.\n",
      "  super().__init__(**kwargs)\n"
     ]
    },
    {
     "name": "stdout",
     "output_type": "stream",
     "text": [
      "\u001b[1m23/23\u001b[0m \u001b[32m━━━━━━━━━━━━━━━━━━━━\u001b[0m\u001b[37m\u001b[0m \u001b[1m1s\u001b[0m 42ms/step\n",
      "Model 1 Results - Accuracy: 0.6939, Precision: 0.7055, Recall: 0.5740, F1: 0.6330, Training Time: 26.62s\n",
      "\n",
      "Training model 2/16: units=64, dropout=0.2, lr=0.001, batch=64\n"
     ]
    },
    {
     "name": "stderr",
     "output_type": "stream",
     "text": [
      "/usr/local/lib/python3.11/dist-packages/keras/src/layers/rnn/rnn.py:204: UserWarning: Do not pass an `input_shape`/`input_dim` argument to a layer. When using Sequential models, prefer using an `Input(shape)` object as the first layer in the model instead.\n",
      "  super().__init__(**kwargs)\n"
     ]
    },
    {
     "name": "stdout",
     "output_type": "stream",
     "text": [
      "\u001b[1m23/23\u001b[0m \u001b[32m━━━━━━━━━━━━━━━━━━━━\u001b[0m\u001b[37m\u001b[0m \u001b[1m0s\u001b[0m 12ms/step\n",
      "Model 2 Results - Accuracy: 0.7007, Precision: 0.7107, Recall: 0.5888, F1: 0.6440, Training Time: 16.97s\n",
      "\n",
      "Training model 3/16: units=64, dropout=0.2, lr=0.0005, batch=32\n"
     ]
    },
    {
     "name": "stderr",
     "output_type": "stream",
     "text": [
      "/usr/local/lib/python3.11/dist-packages/keras/src/layers/rnn/rnn.py:204: UserWarning: Do not pass an `input_shape`/`input_dim` argument to a layer. When using Sequential models, prefer using an `Input(shape)` object as the first layer in the model instead.\n",
      "  super().__init__(**kwargs)\n"
     ]
    },
    {
     "name": "stdout",
     "output_type": "stream",
     "text": [
      "\u001b[1m23/23\u001b[0m \u001b[32m━━━━━━━━━━━━━━━━━━━━\u001b[0m\u001b[37m\u001b[0m \u001b[1m1s\u001b[0m 45ms/step\n",
      "Model 3 Results - Accuracy: 0.6966, Precision: 0.7138, Recall: 0.5680, F1: 0.6326, Training Time: 31.73s\n",
      "\n",
      "Training model 4/16: units=64, dropout=0.2, lr=0.0005, batch=64\n"
     ]
    },
    {
     "name": "stderr",
     "output_type": "stream",
     "text": [
      "/usr/local/lib/python3.11/dist-packages/keras/src/layers/rnn/rnn.py:204: UserWarning: Do not pass an `input_shape`/`input_dim` argument to a layer. When using Sequential models, prefer using an `Input(shape)` object as the first layer in the model instead.\n",
      "  super().__init__(**kwargs)\n"
     ]
    },
    {
     "name": "stdout",
     "output_type": "stream",
     "text": [
      "\u001b[1m23/23\u001b[0m \u001b[32m━━━━━━━━━━━━━━━━━━━━\u001b[0m\u001b[37m\u001b[0m \u001b[1m1s\u001b[0m 13ms/step\n",
      "Model 4 Results - Accuracy: 0.6980, Precision: 0.7164, Recall: 0.5680, F1: 0.6337, Training Time: 24.73s\n",
      "\n",
      "Training model 5/16: units=64, dropout=0.3, lr=0.001, batch=32\n"
     ]
    },
    {
     "name": "stderr",
     "output_type": "stream",
     "text": [
      "/usr/local/lib/python3.11/dist-packages/keras/src/layers/rnn/rnn.py:204: UserWarning: Do not pass an `input_shape`/`input_dim` argument to a layer. When using Sequential models, prefer using an `Input(shape)` object as the first layer in the model instead.\n",
      "  super().__init__(**kwargs)\n"
     ]
    },
    {
     "name": "stdout",
     "output_type": "stream",
     "text": [
      "\u001b[1m23/23\u001b[0m \u001b[32m━━━━━━━━━━━━━━━━━━━━\u001b[0m\u001b[37m\u001b[0m \u001b[1m0s\u001b[0m 12ms/step\n",
      "Model 5 Results - Accuracy: 0.6898, Precision: 0.7115, Recall: 0.5473, F1: 0.6187, Training Time: 24.42s\n",
      "\n",
      "Training model 6/16: units=64, dropout=0.3, lr=0.001, batch=64\n"
     ]
    },
    {
     "name": "stderr",
     "output_type": "stream",
     "text": [
      "/usr/local/lib/python3.11/dist-packages/keras/src/layers/rnn/rnn.py:204: UserWarning: Do not pass an `input_shape`/`input_dim` argument to a layer. When using Sequential models, prefer using an `Input(shape)` object as the first layer in the model instead.\n",
      "  super().__init__(**kwargs)\n"
     ]
    },
    {
     "name": "stdout",
     "output_type": "stream",
     "text": [
      "\u001b[1m23/23\u001b[0m \u001b[32m━━━━━━━━━━━━━━━━━━━━\u001b[0m\u001b[37m\u001b[0m \u001b[1m1s\u001b[0m 12ms/step\n",
      "Model 6 Results - Accuracy: 0.6980, Precision: 0.7101, Recall: 0.5799, F1: 0.6384, Training Time: 17.32s\n",
      "\n",
      "Training model 7/16: units=64, dropout=0.3, lr=0.0005, batch=32\n"
     ]
    },
    {
     "name": "stderr",
     "output_type": "stream",
     "text": [
      "/usr/local/lib/python3.11/dist-packages/keras/src/layers/rnn/rnn.py:204: UserWarning: Do not pass an `input_shape`/`input_dim` argument to a layer. When using Sequential models, prefer using an `Input(shape)` object as the first layer in the model instead.\n",
      "  super().__init__(**kwargs)\n"
     ]
    },
    {
     "name": "stdout",
     "output_type": "stream",
     "text": [
      "\u001b[1m23/23\u001b[0m \u001b[32m━━━━━━━━━━━━━━━━━━━━\u001b[0m\u001b[37m\u001b[0m \u001b[1m0s\u001b[0m 12ms/step\n",
      "Model 7 Results - Accuracy: 0.6966, Precision: 0.7154, Recall: 0.5651, F1: 0.6314, Training Time: 36.53s\n",
      "\n",
      "Training model 8/16: units=64, dropout=0.3, lr=0.0005, batch=64\n"
     ]
    },
    {
     "name": "stderr",
     "output_type": "stream",
     "text": [
      "/usr/local/lib/python3.11/dist-packages/keras/src/layers/rnn/rnn.py:204: UserWarning: Do not pass an `input_shape`/`input_dim` argument to a layer. When using Sequential models, prefer using an `Input(shape)` object as the first layer in the model instead.\n",
      "  super().__init__(**kwargs)\n"
     ]
    },
    {
     "name": "stdout",
     "output_type": "stream",
     "text": [
      "\u001b[1m23/23\u001b[0m \u001b[32m━━━━━━━━━━━━━━━━━━━━\u001b[0m\u001b[37m\u001b[0m \u001b[1m0s\u001b[0m 12ms/step\n",
      "Model 8 Results - Accuracy: 0.6980, Precision: 0.7071, Recall: 0.5858, F1: 0.6408, Training Time: 27.93s\n",
      "\n",
      "Training model 9/16: units=128, dropout=0.2, lr=0.001, batch=32\n"
     ]
    },
    {
     "name": "stderr",
     "output_type": "stream",
     "text": [
      "/usr/local/lib/python3.11/dist-packages/keras/src/layers/rnn/rnn.py:204: UserWarning: Do not pass an `input_shape`/`input_dim` argument to a layer. When using Sequential models, prefer using an `Input(shape)` object as the first layer in the model instead.\n",
      "  super().__init__(**kwargs)\n"
     ]
    },
    {
     "name": "stdout",
     "output_type": "stream",
     "text": [
      "\u001b[1m23/23\u001b[0m \u001b[32m━━━━━━━━━━━━━━━━━━━━\u001b[0m\u001b[37m\u001b[0m \u001b[1m1s\u001b[0m 13ms/step\n",
      "Model 9 Results - Accuracy: 0.6912, Precision: 0.7048, Recall: 0.5651, F1: 0.6273, Training Time: 21.31s\n",
      "\n",
      "Training model 10/16: units=128, dropout=0.2, lr=0.001, batch=64\n"
     ]
    },
    {
     "name": "stderr",
     "output_type": "stream",
     "text": [
      "/usr/local/lib/python3.11/dist-packages/keras/src/layers/rnn/rnn.py:204: UserWarning: Do not pass an `input_shape`/`input_dim` argument to a layer. When using Sequential models, prefer using an `Input(shape)` object as the first layer in the model instead.\n",
      "  super().__init__(**kwargs)\n"
     ]
    },
    {
     "name": "stdout",
     "output_type": "stream",
     "text": [
      "\u001b[1m23/23\u001b[0m \u001b[32m━━━━━━━━━━━━━━━━━━━━\u001b[0m\u001b[37m\u001b[0m \u001b[1m0s\u001b[0m 12ms/step\n",
      "Model 10 Results - Accuracy: 0.6925, Precision: 0.7105, Recall: 0.5592, F1: 0.6258, Training Time: 14.77s\n",
      "\n",
      "Training model 11/16: units=128, dropout=0.2, lr=0.0005, batch=32\n"
     ]
    },
    {
     "name": "stderr",
     "output_type": "stream",
     "text": [
      "/usr/local/lib/python3.11/dist-packages/keras/src/layers/rnn/rnn.py:204: UserWarning: Do not pass an `input_shape`/`input_dim` argument to a layer. When using Sequential models, prefer using an `Input(shape)` object as the first layer in the model instead.\n",
      "  super().__init__(**kwargs)\n"
     ]
    },
    {
     "name": "stdout",
     "output_type": "stream",
     "text": [
      "\u001b[1m23/23\u001b[0m \u001b[32m━━━━━━━━━━━━━━━━━━━━\u001b[0m\u001b[37m\u001b[0m \u001b[1m0s\u001b[0m 12ms/step\n",
      "Model 11 Results - Accuracy: 0.6884, Precision: 0.7057, Recall: 0.5533, F1: 0.6202, Training Time: 26.79s\n",
      "\n",
      "Training model 12/16: units=128, dropout=0.2, lr=0.0005, batch=64\n"
     ]
    },
    {
     "name": "stderr",
     "output_type": "stream",
     "text": [
      "/usr/local/lib/python3.11/dist-packages/keras/src/layers/rnn/rnn.py:204: UserWarning: Do not pass an `input_shape`/`input_dim` argument to a layer. When using Sequential models, prefer using an `Input(shape)` object as the first layer in the model instead.\n",
      "  super().__init__(**kwargs)\n"
     ]
    },
    {
     "name": "stdout",
     "output_type": "stream",
     "text": [
      "\u001b[1m23/23\u001b[0m \u001b[32m━━━━━━━━━━━━━━━━━━━━\u001b[0m\u001b[37m\u001b[0m \u001b[1m0s\u001b[0m 12ms/step\n",
      "Model 12 Results - Accuracy: 0.6925, Precision: 0.7105, Recall: 0.5592, F1: 0.6258, Training Time: 19.01s\n",
      "\n",
      "Training model 13/16: units=128, dropout=0.3, lr=0.001, batch=32\n"
     ]
    },
    {
     "name": "stderr",
     "output_type": "stream",
     "text": [
      "/usr/local/lib/python3.11/dist-packages/keras/src/layers/rnn/rnn.py:204: UserWarning: Do not pass an `input_shape`/`input_dim` argument to a layer. When using Sequential models, prefer using an `Input(shape)` object as the first layer in the model instead.\n",
      "  super().__init__(**kwargs)\n"
     ]
    },
    {
     "name": "stdout",
     "output_type": "stream",
     "text": [
      "\u001b[1m23/23\u001b[0m \u001b[32m━━━━━━━━━━━━━━━━━━━━\u001b[0m\u001b[37m\u001b[0m \u001b[1m1s\u001b[0m 12ms/step\n",
      "Model 13 Results - Accuracy: 0.6898, Precision: 0.6993, Recall: 0.5710, F1: 0.6287, Training Time: 21.05s\n",
      "\n",
      "Training model 14/16: units=128, dropout=0.3, lr=0.001, batch=64\n"
     ]
    },
    {
     "name": "stderr",
     "output_type": "stream",
     "text": [
      "/usr/local/lib/python3.11/dist-packages/keras/src/layers/rnn/rnn.py:204: UserWarning: Do not pass an `input_shape`/`input_dim` argument to a layer. When using Sequential models, prefer using an `Input(shape)` object as the first layer in the model instead.\n",
      "  super().__init__(**kwargs)\n"
     ]
    },
    {
     "name": "stdout",
     "output_type": "stream",
     "text": [
      "\u001b[1m23/23\u001b[0m \u001b[32m━━━━━━━━━━━━━━━━━━━━\u001b[0m\u001b[37m\u001b[0m \u001b[1m1s\u001b[0m 12ms/step\n",
      "Model 14 Results - Accuracy: 0.6939, Precision: 0.7100, Recall: 0.5651, F1: 0.6293, Training Time: 14.82s\n",
      "\n",
      "Training model 15/16: units=128, dropout=0.3, lr=0.0005, batch=32\n"
     ]
    },
    {
     "name": "stderr",
     "output_type": "stream",
     "text": [
      "/usr/local/lib/python3.11/dist-packages/keras/src/layers/rnn/rnn.py:204: UserWarning: Do not pass an `input_shape`/`input_dim` argument to a layer. When using Sequential models, prefer using an `Input(shape)` object as the first layer in the model instead.\n",
      "  super().__init__(**kwargs)\n"
     ]
    },
    {
     "name": "stdout",
     "output_type": "stream",
     "text": [
      "\u001b[1m23/23\u001b[0m \u001b[32m━━━━━━━━━━━━━━━━━━━━\u001b[0m\u001b[37m\u001b[0m \u001b[1m0s\u001b[0m 12ms/step\n",
      "Model 15 Results - Accuracy: 0.6925, Precision: 0.7188, Recall: 0.5444, F1: 0.6195, Training Time: 34.08s\n",
      "\n",
      "Training model 16/16: units=128, dropout=0.3, lr=0.0005, batch=64\n"
     ]
    },
    {
     "name": "stderr",
     "output_type": "stream",
     "text": [
      "/usr/local/lib/python3.11/dist-packages/keras/src/layers/rnn/rnn.py:204: UserWarning: Do not pass an `input_shape`/`input_dim` argument to a layer. When using Sequential models, prefer using an `Input(shape)` object as the first layer in the model instead.\n",
      "  super().__init__(**kwargs)\n"
     ]
    },
    {
     "name": "stdout",
     "output_type": "stream",
     "text": [
      "\u001b[1m23/23\u001b[0m \u001b[32m━━━━━━━━━━━━━━━━━━━━\u001b[0m\u001b[37m\u001b[0m \u001b[1m0s\u001b[0m 12ms/step\n",
      "Model 16 Results - Accuracy: 0.6980, Precision: 0.7086, Recall: 0.5828, F1: 0.6396, Training Time: 20.46s\n",
      "\n",
      "--- Best Model Summary ---\n",
      "Best Hyperparameters: {'units': 64, 'dropout': 0.2, 'learning_rate': 0.001, 'batch_size': 64, 'f1_score': 0.6440129449838188}\n",
      "Best F1 Score: 0.6440\n",
      "\n",
      "Best LSTM Classification Model saved successfully!\n"
     ]
    }
   ],
   "source": [
    "# --- Import Libraries ---\n",
    "import pandas as pd\n",
    "import numpy as np\n",
    "import random\n",
    "import tensorflow as tf\n",
    "from sklearn.preprocessing import MinMaxScaler\n",
    "from sklearn.model_selection import train_test_split\n",
    "from sklearn.metrics import accuracy_score, precision_score, recall_score, f1_score\n",
    "from tensorflow.keras.models import Sequential\n",
    "from tensorflow.keras.layers import LSTM, Dense, Dropout\n",
    "from tensorflow.keras.optimizers import Adam\n",
    "from tensorflow.keras.callbacks import EarlyStopping\n",
    "from time import time\n",
    "import itertools\n",
    "\n",
    "# --- Set Seed untuk Reproducibility ---\n",
    "SEED = 42\n",
    "np.random.seed(SEED)\n",
    "random.seed(SEED)\n",
    "tf.random.set_seed(SEED)\n",
    "\n",
    "# --- Load & Preprocess Data ---\n",
    "df = pd.read_excel(\"/kaggle/input/dataset/dataset_rainfall_all.xlsx\", sheet_name=\"Sheet1\")\n",
    "df['tanggal'] = pd.to_datetime(df['tanggal'], dayfirst=True)\n",
    "df = df.sort_values('tanggal').reset_index(drop=True)\n",
    "\n",
    "features = ['tavg', 'rh_avg', 'ss']\n",
    "target = 'rr'\n",
    "\n",
    "# Interpolate missing values\n",
    "df[features + [target]] = df[features + [target]].interpolate(method='linear').bfill().ffill()\n",
    "\n",
    "# Create classification target\n",
    "df['rr_label'] = df['rr'].apply(lambda x: 1 if x >= 5 else 0)\n",
    "\n",
    "# Normalize inputs\n",
    "scaler_x = MinMaxScaler()\n",
    "X_scaled = scaler_x.fit_transform(df[features])\n",
    "y_binary = df['rr_label'].values\n",
    "\n",
    "# Create sequence dataset\n",
    "def create_dataset(X, y, lookback=12):\n",
    "    Xs, ys = [], []\n",
    "    for i in range(lookback, len(X)):\n",
    "        Xs.append(X[i-lookback:i])\n",
    "        ys.append(y[i])\n",
    "    return np.array(Xs), np.array(ys)\n",
    "\n",
    "lookback = 12\n",
    "X_seq, y_seq = create_dataset(X_scaled, y_binary, lookback=lookback)\n",
    "X_train, X_test, y_train, y_test = train_test_split(X_seq, y_seq, test_size=0.2, shuffle=False, random_state=SEED)\n",
    "\n",
    "# --- Define Hyperparameter Space ---\n",
    "param_grid = {\n",
    "    'units': [64, 128],\n",
    "    'dropout': [0.2, 0.3],\n",
    "    'learning_rate': [0.001, 0.0005],\n",
    "    'batch_size': [32, 64]\n",
    "}\n",
    "\n",
    "# --- Grid Search ---\n",
    "print(\"Starting Grid Search...\")\n",
    "\n",
    "best_f1 = -1\n",
    "best_model = None\n",
    "best_params = {}\n",
    "\n",
    "# Create all combinations of parameters\n",
    "param_combinations = list(itertools.product(\n",
    "    param_grid['units'],\n",
    "    param_grid['dropout'],\n",
    "    param_grid['learning_rate'],\n",
    "    param_grid['batch_size']\n",
    "))\n",
    "\n",
    "for idx, (units, dropout, lr, batch_size) in enumerate(param_combinations):\n",
    "    print(f\"\\nTraining model {idx+1}/{len(param_combinations)}: units={units}, dropout={dropout}, lr={lr}, batch={batch_size}\")\n",
    "    \n",
    "    model = Sequential([\n",
    "        LSTM(units, return_sequences=True, input_shape=(X_train.shape[1], X_train.shape[2])),\n",
    "        Dropout(dropout),\n",
    "        LSTM(units//2),\n",
    "        Dropout(dropout),\n",
    "        Dense(1, activation='sigmoid')\n",
    "    ])\n",
    "    \n",
    "    model.compile(optimizer=Adam(learning_rate=lr), loss='binary_crossentropy', metrics=['accuracy'])\n",
    "    \n",
    "    early_stop = EarlyStopping(monitor='val_loss', patience=10, restore_best_weights=True)\n",
    "    \n",
    "    start_time = time()\n",
    "    model.fit(X_train, y_train, epochs=100, batch_size=batch_size, validation_split=0.1, callbacks=[early_stop], verbose=0)\n",
    "    training_time = time() - start_time\n",
    "\n",
    "    # Evaluate\n",
    "    y_pred_prob = model.predict(X_test)\n",
    "    y_pred = (y_pred_prob >= 0.5).astype(int)\n",
    "    \n",
    "    acc = accuracy_score(y_test, y_pred)\n",
    "    prec = precision_score(y_test, y_pred, zero_division=0)\n",
    "    rec = recall_score(y_test, y_pred)\n",
    "    f1 = f1_score(y_test, y_pred)\n",
    "    \n",
    "    print(f\"Model {idx+1} Results - Accuracy: {acc:.4f}, Precision: {prec:.4f}, Recall: {rec:.4f}, F1: {f1:.4f}, Training Time: {training_time:.2f}s\")\n",
    "    \n",
    "    # Save best model\n",
    "    if f1 > best_f1:\n",
    "        best_f1 = f1\n",
    "        best_model = model\n",
    "        best_params = {\n",
    "            'units': units,\n",
    "            'dropout': dropout,\n",
    "            'learning_rate': lr,\n",
    "            'batch_size': batch_size,\n",
    "            'f1_score': f1\n",
    "        }\n",
    "\n",
    "print(\"\\n--- Best Model Summary ---\")\n",
    "print(f\"Best Hyperparameters: {best_params}\")\n",
    "print(f\"Best F1 Score: {best_f1:.4f}\")\n",
    "\n",
    "# --- Save Best Model ---\n",
    "best_model.save(\"best_lstm_classification_model.h5\")\n",
    "print(\"\\nBest LSTM Classification Model saved successfully!\")"
   ]
  },
  {
   "cell_type": "code",
   "execution_count": null,
   "id": "bf7816c5",
   "metadata": {
    "papermill": {
     "duration": 0.016757,
     "end_time": "2025-04-30T16:49:44.216344",
     "exception": false,
     "start_time": "2025-04-30T16:49:44.199587",
     "status": "completed"
    },
    "tags": []
   },
   "outputs": [],
   "source": []
  }
 ],
 "metadata": {
  "kaggle": {
   "accelerator": "nvidiaTeslaT4",
   "dataSources": [
    {
     "datasetId": 7271013,
     "sourceId": 11594885,
     "sourceType": "datasetVersion"
    }
   ],
   "dockerImageVersionId": 31011,
   "isGpuEnabled": true,
   "isInternetEnabled": true,
   "language": "python",
   "sourceType": "notebook"
  },
  "kernelspec": {
   "display_name": "Python 3",
   "language": "python",
   "name": "python3"
  },
  "language_info": {
   "codemirror_mode": {
    "name": "ipython",
    "version": 3
   },
   "file_extension": ".py",
   "mimetype": "text/x-python",
   "name": "python",
   "nbconvert_exporter": "python",
   "pygments_lexer": "ipython3",
   "version": "3.11.11"
  },
  "papermill": {
   "default_parameters": {},
   "duration": 1366.701033,
   "end_time": "2025-04-30T16:49:48.031380",
   "environment_variables": {},
   "exception": null,
   "input_path": "__notebook__.ipynb",
   "output_path": "__notebook__.ipynb",
   "parameters": {},
   "start_time": "2025-04-30T16:27:01.330347",
   "version": "2.6.0"
  }
 },
 "nbformat": 4,
 "nbformat_minor": 5
}
